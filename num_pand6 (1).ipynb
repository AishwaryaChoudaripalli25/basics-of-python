{
 "cells": [
  {
   "cell_type": "markdown",
   "id": "059aff50",
   "metadata": {},
   "source": [
    "# Numpy"
   ]
  },
  {
   "cell_type": "markdown",
   "id": "b43dcadb",
   "metadata": {},
   "source": [
    "### 2D array"
   ]
  },
  {
   "cell_type": "code",
   "execution_count": 7,
   "id": "5274e692",
   "metadata": {},
   "outputs": [
    {
     "name": "stdout",
     "output_type": "stream",
     "text": [
      "[[10, 20, 30], [50, 60, 70]]\n",
      "[[10 20 30]\n",
      " [50 60 70]]\n"
     ]
    }
   ],
   "source": [
    "import numpy as np\n",
    "list1=[[10,20,30],[50,60,70]]\n",
    "print(list1)\n",
    "a=np.array([[10,20,30],[50,60,70]])\n",
    "print(a)"
   ]
  },
  {
   "cell_type": "code",
   "execution_count": 2,
   "id": "81ee68ac-4d32-434a-a4db-4529ff4f1106",
   "metadata": {},
   "outputs": [
    {
     "name": "stdout",
     "output_type": "stream",
     "text": [
      "[[5 4 3]\n",
      " [8 7 6]]\n"
     ]
    }
   ],
   "source": [
    "import numpy as np\n",
    "l=[[5,4,3],[8,7,6]]\n",
    "a=np.array([[5,4,3],[8,7,6]])\n",
    "print(a)"
   ]
  },
  {
   "cell_type": "markdown",
   "id": "a195db30",
   "metadata": {},
   "source": [
    "### 1D Array"
   ]
  },
  {
   "cell_type": "code",
   "execution_count": 8,
   "id": "835026ec",
   "metadata": {},
   "outputs": [
    {
     "name": "stdout",
     "output_type": "stream",
     "text": [
      "[[10 20 30 50 60 70]]\n"
     ]
    }
   ],
   "source": [
    "ar1=np.array([[10,20,30,50,60,70]])\n",
    "print(ar1)"
   ]
  },
  {
   "cell_type": "code",
   "execution_count": 9,
   "id": "aa809ba3",
   "metadata": {},
   "outputs": [
    {
     "data": {
      "text/plain": [
       "array([[10, 20, 30, 50, 60, 70]])"
      ]
     },
     "execution_count": 9,
     "metadata": {},
     "output_type": "execute_result"
    }
   ],
   "source": [
    "ar1"
   ]
  },
  {
   "cell_type": "markdown",
   "id": "0f52b77d",
   "metadata": {},
   "source": [
    "### array with different no.of elements"
   ]
  },
  {
   "cell_type": "code",
   "execution_count": 10,
   "id": "d0e36740",
   "metadata": {},
   "outputs": [
    {
     "name": "stdout",
     "output_type": "stream",
     "text": [
      "[[15, 25, 35], [45, 55, 65]]\n",
      "[[15 25 35]\n",
      " [45 55 65]]\n",
      "<class 'numpy.ndarray'>\n",
      "<class 'list'>\n",
      "[[15 25 35]\n",
      " [45 55 65]]\n"
     ]
    }
   ],
   "source": [
    "import numpy as np\n",
    "l1=[[15,25,35],[45,55,65]]\n",
    "print(l1)\n",
    "a=np.array([[15,25,35],[45,55,65]])\n",
    "print(a)\n",
    "print(type(a))\n",
    "print(type(l1))\n",
    "print(a)"
   ]
  },
  {
   "cell_type": "code",
   "execution_count": 11,
   "id": "4f08ed8f",
   "metadata": {},
   "outputs": [
    {
     "name": "stdout",
     "output_type": "stream",
     "text": [
      "[10, 20, 30, 40, 'g']\n",
      "['10' '20' '30' '40' 'g']\n"
     ]
    }
   ],
   "source": [
    "l1=[10,20,30,40,'g']\n",
    "import numpy as np\n",
    "arr=np.array(l1)\n",
    "print(l1)\n",
    "print(arr)"
   ]
  },
  {
   "cell_type": "markdown",
   "id": "81b3eda7",
   "metadata": {},
   "source": [
    "### string all elements converted to string"
   ]
  },
  {
   "cell_type": "code",
   "execution_count": 12,
   "id": "b599abb4",
   "metadata": {},
   "outputs": [
    {
     "name": "stdout",
     "output_type": "stream",
     "text": [
      "<class 'numpy.ndarray'>\n",
      "<class 'list'>\n",
      "['10' '20' '30' '40' 'g' 'x']\n"
     ]
    }
   ],
   "source": [
    "l1.append('x')\n",
    "import numpy as np\n",
    "arr=np.array(l1)\n",
    "print(type(arr))\n",
    "print(type(l1))\n",
    "print(arr)"
   ]
  },
  {
   "cell_type": "markdown",
   "id": "4f26193c",
   "metadata": {},
   "source": [
    "### with tuple"
   ]
  },
  {
   "cell_type": "code",
   "execution_count": 13,
   "id": "b66c5298",
   "metadata": {},
   "outputs": [
    {
     "name": "stdout",
     "output_type": "stream",
     "text": [
      "<class 'numpy.ndarray'>\n",
      "<class 'tuple'>\n",
      "(10, 20, 30, 40, 'x', 'y')\n",
      "['10' '20' '30' '40' 'x' 'y']\n"
     ]
    }
   ],
   "source": [
    "tup1=(10,20,30,40,'x','y')\n",
    "import numpy as np\n",
    "arr=np.array(tup1)\n",
    "print(type(arr))\n",
    "print(type(tup1))\n",
    "print(tup1)\n",
    "print(arr)\n"
   ]
  },
  {
   "cell_type": "markdown",
   "id": "8c75053b",
   "metadata": {},
   "source": [
    "### changes in the sub list won't impact main list"
   ]
  },
  {
   "cell_type": "code",
   "execution_count": 14,
   "id": "54d602e1",
   "metadata": {},
   "outputs": [
    {
     "name": "stdout",
     "output_type": "stream",
     "text": [
      "[10, 20, 30]\n",
      "[10, 400, 30]\n",
      "[10, 20, 30, 40, 50, 60, 70, 80]\n"
     ]
    }
   ],
   "source": [
    "l1=[10,20,30,40,50,60,70,80]\n",
    "l2=l1[:3]\n",
    "print(l2)\n",
    "l2[1]=400\n",
    "print(l2)\n",
    "print(l1)"
   ]
  },
  {
   "cell_type": "markdown",
   "id": "93c10574",
   "metadata": {},
   "source": [
    "### if we update sliced array ,parent array also gets impacted"
   ]
  },
  {
   "cell_type": "code",
   "execution_count": 15,
   "id": "01e84a81",
   "metadata": {},
   "outputs": [
    {
     "name": "stdout",
     "output_type": "stream",
     "text": [
      "[10 20 30 40 50 60 70 80]\n",
      "[10 20 30]\n",
      "[700  20  30  40  50  60  70  80]\n",
      "[700  20  30]\n"
     ]
    }
   ],
   "source": [
    "arr1=np.array(l1)\n",
    "print(arr1)\n",
    "arr2=arr1[:3]\n",
    "print(arr2)\n",
    "arr2[0]=700\n",
    "print(arr1)\n",
    "print(arr2)"
   ]
  },
  {
   "cell_type": "markdown",
   "id": "2ffde754",
   "metadata": {},
   "source": [
    "### but in copy parent array won't impacted\n"
   ]
  },
  {
   "cell_type": "code",
   "execution_count": 16,
   "id": "50c0a0f5",
   "metadata": {},
   "outputs": [
    {
     "name": "stdout",
     "output_type": "stream",
     "text": [
      "[700  20  30  40  50  60  70  80]\n",
      "[700  20  30]\n",
      "[700  20  30  40  50  60  70  80]\n",
      "[700 300  30]\n"
     ]
    }
   ],
   "source": [
    "print(arr1)\n",
    "arr2=(arr1[0:3]).copy()\n",
    "print(arr2)\n",
    "arr2[1]=300\n",
    "print(arr1)\n",
    "print(arr2)"
   ]
  },
  {
   "cell_type": "markdown",
   "id": "cd312c28",
   "metadata": {},
   "source": [
    "### matrix"
   ]
  },
  {
   "cell_type": "code",
   "execution_count": 17,
   "id": "27cb627c",
   "metadata": {},
   "outputs": [
    {
     "name": "stdout",
     "output_type": "stream",
     "text": [
      "[[0 1 2]\n",
      " [3 4 5]\n",
      " [6 7 8]]\n",
      "4\n"
     ]
    }
   ],
   "source": [
    "import numpy as np\n",
    "a=np.arange(9)\n",
    "a=a.reshape((3,3))\n",
    "print(a)\n",
    "print(a[1][1])"
   ]
  },
  {
   "cell_type": "code",
   "execution_count": 18,
   "id": "79ed5224",
   "metadata": {},
   "outputs": [
    {
     "name": "stdout",
     "output_type": "stream",
     "text": [
      "[[0. 0. 0. 0.]\n",
      " [0. 0. 0. 0.]\n",
      " [0. 0. 0. 0.]\n",
      " [0. 0. 0. 0.]]\n"
     ]
    },
    {
     "data": {
      "text/plain": [
       "array([[0., 0., 0., 0.],\n",
       "       [0., 0., 0., 0.],\n",
       "       [0., 0., 0., 0.],\n",
       "       [0., 0., 0., 0.]])"
      ]
     },
     "execution_count": 18,
     "metadata": {},
     "output_type": "execute_result"
    }
   ],
   "source": [
    "b=np.zeros((4,4))\n",
    "print(b)\n",
    "b"
   ]
  },
  {
   "cell_type": "code",
   "execution_count": 19,
   "id": "7995461f",
   "metadata": {},
   "outputs": [
    {
     "name": "stdout",
     "output_type": "stream",
     "text": [
      "[[1. 1. 1. 1. 1.]\n",
      " [1. 1. 1. 1. 1.]\n",
      " [1. 1. 1. 1. 1.]]\n"
     ]
    },
    {
     "data": {
      "text/plain": [
       "array([[1., 1., 1., 1., 1.],\n",
       "       [1., 1., 1., 1., 1.],\n",
       "       [1., 1., 1., 1., 1.]])"
      ]
     },
     "execution_count": 19,
     "metadata": {},
     "output_type": "execute_result"
    }
   ],
   "source": [
    "b=np.ones((3,5))\n",
    "print(b)\n",
    "b"
   ]
  },
  {
   "cell_type": "markdown",
   "id": "e55f48ac",
   "metadata": {},
   "source": [
    "### F for columns,c for rows"
   ]
  },
  {
   "cell_type": "code",
   "execution_count": 20,
   "id": "9a1c8ae4",
   "metadata": {},
   "outputs": [
    {
     "name": "stdout",
     "output_type": "stream",
     "text": [
      "[ 0  1  2  3  4  5  6  7  8  9 10 11 12 13 14 15 16 17 18 19 20 21 22 23\n",
      " 24 25 26 27 28 29]\n",
      "[[ 0  6 12 18 24]\n",
      " [ 1  7 13 19 25]\n",
      " [ 2  8 14 20 26]\n",
      " [ 3  9 15 21 27]\n",
      " [ 4 10 16 22 28]\n",
      " [ 5 11 17 23 29]]\n"
     ]
    }
   ],
   "source": [
    "m1=np.arange(0,30)\n",
    "m2=np.reshape(m1,(6,5),'F')\n",
    "print(m1)\n",
    "print(m2)"
   ]
  },
  {
   "cell_type": "markdown",
   "id": "033540cb",
   "metadata": {},
   "source": [
    "### create three list matrix  and transpose"
   ]
  },
  {
   "cell_type": "code",
   "execution_count": 21,
   "id": "3ea70905",
   "metadata": {},
   "outputs": [
    {
     "name": "stdout",
     "output_type": "stream",
     "text": [
      "[[10 20 30 40]\n",
      " [11 22 33 44]\n",
      " [12 22 32 42]]\n",
      "[[10 11 12]\n",
      " [20 22 22]\n",
      " [30 33 32]\n",
      " [40 44 42]]\n"
     ]
    }
   ],
   "source": [
    "l1=[10,20,30,40]\n",
    "l2=[11,22,33,44]\n",
    "l3=[12,22,32,42]\n",
    "mat1=np.array([l1,l2,l3])\n",
    "print(mat1)\n",
    "print(mat1.T)\n"
   ]
  },
  {
   "cell_type": "markdown",
   "id": "2766a6fa",
   "metadata": {},
   "source": [
    "### mat division"
   ]
  },
  {
   "cell_type": "code",
   "execution_count": 22,
   "id": "68d4fcae",
   "metadata": {},
   "outputs": [
    {
     "name": "stdout",
     "output_type": "stream",
     "text": [
      "[[100 110 120 130]\n",
      " [200 210 220 230]\n",
      " [300 310 320 330]]\n",
      "[[10 11 12 13]\n",
      " [20 21 22 23]\n",
      " [30 31 32 33]]\n",
      "[[10. 10. 10. 10.]\n",
      " [10. 10. 10. 10.]\n",
      " [10. 10. 10. 10.]]\n",
      "[10 11 12 13 20 21 22 23 30 31 32 33]\n"
     ]
    }
   ],
   "source": [
    "import numpy as np\n",
    "l1=[100,110,120,130]\n",
    "l2=[200,210,220,230]\n",
    "l3=[300,310,320,330]\n",
    "m1=np.array([l1,l2,l3])\n",
    "l6=[10,11,12,13]\n",
    "l7=[20,21,22,23]\n",
    "l8=[30,31,32,33]\n",
    "m2=np.array([l6,l7,l8])\n",
    "m3=m1/m2\n",
    "print(m1)\n",
    "print(m2)\n",
    "print(m3)\n",
    "print(m2.ravel())"
   ]
  },
  {
   "cell_type": "code",
   "execution_count": 23,
   "id": "fc24da31",
   "metadata": {},
   "outputs": [
    {
     "name": "stdout",
     "output_type": "stream",
     "text": [
      "[[[ 0  1  2]\n",
      "  [ 3  4  5]\n",
      "  [ 6  7  8]\n",
      "  [ 9 10 11]\n",
      "  [12 13 14]]\n",
      "\n",
      " [[15 16 17]\n",
      "  [18 19 20]\n",
      "  [21 22 23]\n",
      "  [24 25 26]\n",
      "  [27 28 29]]]\n",
      "[[[ 0  1  2]\n",
      "  [ 3  4  5]\n",
      "  [ 6  7  8]\n",
      "  [ 9 10 11]\n",
      "  [12 13 14]]\n",
      "\n",
      " [[15 16 17]\n",
      "  [18 19 20]\n",
      "  [21 22 23]\n",
      "  [24 25 26]\n",
      "  [27 28 29]]]\n"
     ]
    }
   ],
   "source": [
    "a=np.arange(30)\n",
    "b=a.reshape(2,5,3)\n",
    "print(b)\n",
    "n1=b.reshape(30,)\n",
    "print(b)"
   ]
  },
  {
   "cell_type": "markdown",
   "id": "71d11915",
   "metadata": {},
   "source": [
    "### linear spaced vector"
   ]
  },
  {
   "cell_type": "code",
   "execution_count": 24,
   "id": "445aeaa4",
   "metadata": {},
   "outputs": [
    {
     "name": "stdout",
     "output_type": "stream",
     "text": [
      "[ 0.  3.  6.  9. 12. 15. 18. 21. 24. 27. 30.]\n"
     ]
    }
   ],
   "source": [
    "vector=np.linspace(0,30,11)\n",
    "print(vector)"
   ]
  },
  {
   "cell_type": "markdown",
   "id": "a7b4c5ef",
   "metadata": {},
   "source": [
    "### slicing"
   ]
  },
  {
   "cell_type": "code",
   "execution_count": 25,
   "id": "1398a7a3",
   "metadata": {},
   "outputs": [
    {
     "name": "stdout",
     "output_type": "stream",
     "text": [
      "[10 11 12 13 14 15 16 17 18 19 20 21 22 23 24 25 26 27 28 29 30 31 32 33\n",
      " 34 35 36 37 38 39 40 41 42 43 44 45 46 47 48 49 50 51 52 53 54 55 56 57\n",
      " 58 59 60 61 62 63 64 65 66 67 68 69 70 71 72 73 74 75 76 77 78 79 80 81\n",
      " 82 83 84 85 86 87 88 89 90 91 92 93 94 95 96 97 98 99] \n",
      "\n",
      "[ 0  1  2  3  4  5  6  7  8  9 10 11 12 13 14 15 16 17 18 19] \n",
      "\n",
      "[10 11 12 13 14 15 16 17 18 19] \n",
      "\n",
      "[10 15 20 25 30 35 40 45]\n",
      "[ 0 10 20 30 40 50 60 70 80 90]\n"
     ]
    }
   ],
   "source": [
    "import numpy as np\n",
    "arr=np.arange(100)\n",
    "print(arr[10:],'\\n')\n",
    "print(arr[:20],'\\n')\n",
    "print(arr[10:20],'\\n')\n",
    "print(arr[10:50:5])\n",
    "print(arr[::10])\n"
   ]
  },
  {
   "cell_type": "code",
   "execution_count": 26,
   "id": "92926b84",
   "metadata": {},
   "outputs": [
    {
     "name": "stdout",
     "output_type": "stream",
     "text": [
      "[ 0  1  2  3  4  5  6  7  8  9 10 11 12 13 14 15 16 17 18 19]\n",
      "slice(1, 10, 2)\n",
      "[1 3 5 7 9]\n"
     ]
    }
   ],
   "source": [
    "import numpy as np\n",
    "arr=np.arange(20)\n",
    "print(arr)\n",
    "arr_slice=slice(1,10,2)\n",
    "print(arr_slice)\n",
    "print(arr[arr_slice])"
   ]
  },
  {
   "cell_type": "markdown",
   "id": "8a30f107",
   "metadata": {},
   "source": [
    "### extract 2*2  array from 3*3"
   ]
  },
  {
   "cell_type": "code",
   "execution_count": 27,
   "id": "8b554aea",
   "metadata": {},
   "outputs": [
    {
     "name": "stdout",
     "output_type": "stream",
     "text": [
      "[0 1 2 3 4 5 6 7 8]\n",
      "\n",
      "\n",
      "[[0 1 2]\n",
      " [3 4 5]\n",
      " [6 7 8]]\n",
      "\n",
      "\n",
      "[[0 1]\n",
      " [3 4]]\n"
     ]
    }
   ],
   "source": [
    "import numpy as np\n",
    "arr=np.arange(9)\n",
    "print(arr)\n",
    "arr=arr.reshape(3,3)\n",
    "print('\\n')\n",
    "print(arr)\n",
    "print('\\n')\n",
    "arr1=arr[0:2,0:2]\n",
    "print(arr1)"
   ]
  },
  {
   "cell_type": "code",
   "execution_count": 28,
   "id": "19a74505",
   "metadata": {},
   "outputs": [
    {
     "name": "stdout",
     "output_type": "stream",
     "text": [
      "[[0 1 2]\n",
      " [3 4 5]\n",
      " [6 7 8]]\n",
      "\n",
      "\n",
      "[[4 5]\n",
      " [7 8]]\n"
     ]
    }
   ],
   "source": [
    "import numpy as np\n",
    "arr1=np.arange(9)\n",
    "arr1=arr1.reshape(3,3)\n",
    "print(arr1)\n",
    "print('\\n')\n",
    "arr2=arr1[1:3,1:3]\n",
    "print(arr2)"
   ]
  },
  {
   "cell_type": "markdown",
   "id": "1649a28d",
   "metadata": {},
   "source": [
    "# Pandas"
   ]
  },
  {
   "cell_type": "code",
   "execution_count": 29,
   "id": "f4c43dc9",
   "metadata": {},
   "outputs": [],
   "source": [
    "import numpy as np\n",
    "import pandas as pd"
   ]
  },
  {
   "cell_type": "markdown",
   "id": "81a488de",
   "metadata": {},
   "source": [
    "### create series"
   ]
  },
  {
   "cell_type": "code",
   "execution_count": 30,
   "id": "ae19c312",
   "metadata": {},
   "outputs": [
    {
     "data": {
      "text/plain": [
       "0    10\n",
       "1    20\n",
       "2    30\n",
       "dtype: int64"
      ]
     },
     "execution_count": 30,
     "metadata": {},
     "output_type": "execute_result"
    }
   ],
   "source": [
    "a=pd.Series([10,20,30])\n",
    "a"
   ]
  },
  {
   "cell_type": "code",
   "execution_count": 31,
   "id": "30b062b5",
   "metadata": {},
   "outputs": [
    {
     "data": {
      "text/plain": [
       "array([10, 20, 30])"
      ]
     },
     "execution_count": 31,
     "metadata": {},
     "output_type": "execute_result"
    }
   ],
   "source": [
    "a=np.array([10,20,30])\n",
    "a"
   ]
  },
  {
   "cell_type": "code",
   "execution_count": 32,
   "id": "5a27db01",
   "metadata": {},
   "outputs": [
    {
     "data": {
      "text/plain": [
       "array([10, 12, 14, 16, 18, 20])"
      ]
     },
     "execution_count": 32,
     "metadata": {},
     "output_type": "execute_result"
    }
   ],
   "source": [
    "arr1=np.array([10,12,14,16,18,20])\n",
    "arr1"
   ]
  },
  {
   "cell_type": "code",
   "execution_count": 33,
   "id": "aaefe6c5",
   "metadata": {},
   "outputs": [
    {
     "data": {
      "text/plain": [
       "0    10\n",
       "1    12\n",
       "2    14\n",
       "3    16\n",
       "4    18\n",
       "5    20\n",
       "dtype: int32"
      ]
     },
     "execution_count": 33,
     "metadata": {},
     "output_type": "execute_result"
    }
   ],
   "source": [
    "series=pd.Series(arr1)\n",
    "series"
   ]
  },
  {
   "cell_type": "code",
   "execution_count": 34,
   "id": "dae16f6a",
   "metadata": {},
   "outputs": [
    {
     "name": "stdout",
     "output_type": "stream",
     "text": [
      "2    14\n",
      "3    16\n",
      "4    18\n",
      "dtype: int32\n"
     ]
    }
   ],
   "source": [
    "print(series[2:5])"
   ]
  },
  {
   "cell_type": "code",
   "execution_count": 35,
   "id": "c4010c94",
   "metadata": {},
   "outputs": [
    {
     "name": "stdout",
     "output_type": "stream",
     "text": [
      "0    10\n",
      "1    12\n",
      "2    14\n",
      "3    16\n",
      "4    18\n",
      "dtype: int32\n"
     ]
    }
   ],
   "source": [
    "print(series[:5])"
   ]
  },
  {
   "cell_type": "markdown",
   "id": "cd863981",
   "metadata": {},
   "source": [
    "### update values in series"
   ]
  },
  {
   "cell_type": "code",
   "execution_count": 36,
   "id": "6709efb9",
   "metadata": {},
   "outputs": [
    {
     "data": {
      "text/plain": [
       "{'A': 10, 'B': 5, 'C': 8, 'D': 4}"
      ]
     },
     "execution_count": 36,
     "metadata": {},
     "output_type": "execute_result"
    }
   ],
   "source": [
    "dict={'A':10,'B':5,'C':8,'D':4}\n",
    "dict"
   ]
  },
  {
   "cell_type": "code",
   "execution_count": 37,
   "id": "ad28c508",
   "metadata": {},
   "outputs": [
    {
     "data": {
      "text/plain": [
       "A    10\n",
       "B     5\n",
       "C     8\n",
       "D     4\n",
       "dtype: int64"
      ]
     },
     "execution_count": 37,
     "metadata": {},
     "output_type": "execute_result"
    }
   ],
   "source": [
    "a=pd.Series(dict)\n",
    "a"
   ]
  },
  {
   "cell_type": "code",
   "execution_count": 38,
   "id": "05c96405",
   "metadata": {},
   "outputs": [
    {
     "data": {
      "text/plain": [
       "B    5\n",
       "C    8\n",
       "D    4\n",
       "dtype: int64"
      ]
     },
     "execution_count": 38,
     "metadata": {},
     "output_type": "execute_result"
    }
   ],
   "source": [
    "a['B':'D']"
   ]
  },
  {
   "cell_type": "code",
   "execution_count": 39,
   "id": "3444e794",
   "metadata": {},
   "outputs": [],
   "source": [
    "a['C']=34"
   ]
  },
  {
   "cell_type": "code",
   "execution_count": 40,
   "id": "6b2fd911",
   "metadata": {},
   "outputs": [
    {
     "data": {
      "text/plain": [
       "A    10\n",
       "B     5\n",
       "C    34\n",
       "D     4\n",
       "dtype: int64"
      ]
     },
     "execution_count": 40,
     "metadata": {},
     "output_type": "execute_result"
    }
   ],
   "source": [
    "a"
   ]
  },
  {
   "cell_type": "code",
   "execution_count": 41,
   "id": "80401859",
   "metadata": {},
   "outputs": [],
   "source": [
    "d={'a':3}"
   ]
  },
  {
   "cell_type": "code",
   "execution_count": 42,
   "id": "444626c9",
   "metadata": {},
   "outputs": [
    {
     "data": {
      "text/plain": [
       "{'a': 3}"
      ]
     },
     "execution_count": 42,
     "metadata": {},
     "output_type": "execute_result"
    }
   ],
   "source": [
    "d"
   ]
  },
  {
   "cell_type": "markdown",
   "id": "504323dc",
   "metadata": {},
   "source": [
    "### dataframes"
   ]
  },
  {
   "cell_type": "markdown",
   "id": "c1a5f46c",
   "metadata": {},
   "source": [
    "### dictionary list"
   ]
  },
  {
   "cell_type": "code",
   "execution_count": 43,
   "id": "dda3e3c6",
   "metadata": {},
   "outputs": [
    {
     "data": {
      "text/html": [
       "<div>\n",
       "<style scoped>\n",
       "    .dataframe tbody tr th:only-of-type {\n",
       "        vertical-align: middle;\n",
       "    }\n",
       "\n",
       "    .dataframe tbody tr th {\n",
       "        vertical-align: top;\n",
       "    }\n",
       "\n",
       "    .dataframe thead th {\n",
       "        text-align: right;\n",
       "    }\n",
       "</style>\n",
       "<table border=\"1\" class=\"dataframe\">\n",
       "  <thead>\n",
       "    <tr style=\"text-align: right;\">\n",
       "      <th></th>\n",
       "      <th>name</th>\n",
       "      <th>age</th>\n",
       "    </tr>\n",
       "  </thead>\n",
       "  <tbody>\n",
       "    <tr>\n",
       "      <th>0</th>\n",
       "      <td>john</td>\n",
       "      <td>27</td>\n",
       "    </tr>\n",
       "    <tr>\n",
       "      <th>1</th>\n",
       "      <td>jessy</td>\n",
       "      <td>25</td>\n",
       "    </tr>\n",
       "    <tr>\n",
       "      <th>2</th>\n",
       "      <td>sam</td>\n",
       "      <td>30</td>\n",
       "    </tr>\n",
       "    <tr>\n",
       "      <th>3</th>\n",
       "      <td>nick</td>\n",
       "      <td>23</td>\n",
       "    </tr>\n",
       "  </tbody>\n",
       "</table>\n",
       "</div>"
      ],
      "text/plain": [
       "    name  age\n",
       "0   john   27\n",
       "1  jessy   25\n",
       "2    sam   30\n",
       "3   nick   23"
      ]
     },
     "execution_count": 43,
     "metadata": {},
     "output_type": "execute_result"
    }
   ],
   "source": [
    "l1=[{'name':'john','age':27},{'name':'jessy','age':25},{'name':'sam','age':30},{'name':'nick','age':23}]\n",
    "df=pd.DataFrame(l1)\n",
    "df"
   ]
  },
  {
   "cell_type": "code",
   "execution_count": 44,
   "id": "ff72cd56",
   "metadata": {},
   "outputs": [
    {
     "data": {
      "text/plain": [
       "0    27\n",
       "1    25\n",
       "2    30\n",
       "3    23\n",
       "Name: age, dtype: int64"
      ]
     },
     "execution_count": 44,
     "metadata": {},
     "output_type": "execute_result"
    }
   ],
   "source": [
    "df['age']"
   ]
  },
  {
   "cell_type": "code",
   "execution_count": 45,
   "id": "cc57f328",
   "metadata": {},
   "outputs": [
    {
     "name": "stdout",
     "output_type": "stream",
     "text": [
      "                name           age\n",
      "0  [john, sam, eric]  [34, 24, 31]\n"
     ]
    }
   ],
   "source": [
    "l2=[{'name':['john','sam','eric'],'age':[34,24,31]}]\n",
    "df=pd.DataFrame(l2)\n",
    "print(df)"
   ]
  },
  {
   "cell_type": "markdown",
   "id": "b0cf42b0",
   "metadata": {},
   "source": [
    "### list with one dictionary"
   ]
  },
  {
   "cell_type": "code",
   "execution_count": 46,
   "id": "190f9c8b",
   "metadata": {},
   "outputs": [
    {
     "data": {
      "text/html": [
       "<div>\n",
       "<style scoped>\n",
       "    .dataframe tbody tr th:only-of-type {\n",
       "        vertical-align: middle;\n",
       "    }\n",
       "\n",
       "    .dataframe tbody tr th {\n",
       "        vertical-align: top;\n",
       "    }\n",
       "\n",
       "    .dataframe thead th {\n",
       "        text-align: right;\n",
       "    }\n",
       "</style>\n",
       "<table border=\"1\" class=\"dataframe\">\n",
       "  <thead>\n",
       "    <tr style=\"text-align: right;\">\n",
       "      <th></th>\n",
       "      <th>name</th>\n",
       "      <th>age</th>\n",
       "    </tr>\n",
       "  </thead>\n",
       "  <tbody>\n",
       "    <tr>\n",
       "      <th>0</th>\n",
       "      <td>john</td>\n",
       "      <td>34</td>\n",
       "    </tr>\n",
       "    <tr>\n",
       "      <th>1</th>\n",
       "      <td>sam</td>\n",
       "      <td>24</td>\n",
       "    </tr>\n",
       "    <tr>\n",
       "      <th>2</th>\n",
       "      <td>eric</td>\n",
       "      <td>31</td>\n",
       "    </tr>\n",
       "  </tbody>\n",
       "</table>\n",
       "</div>"
      ],
      "text/plain": [
       "   name  age\n",
       "0  john   34\n",
       "1   sam   24\n",
       "2  eric   31"
      ]
     },
     "execution_count": 46,
     "metadata": {},
     "output_type": "execute_result"
    }
   ],
   "source": [
    "l2={'name':['john','sam','eric'],'age':[34,24,31]}\n",
    "df=pd.DataFrame(l2)\n",
    "df"
   ]
  },
  {
   "cell_type": "markdown",
   "id": "6374a55d",
   "metadata": {},
   "source": [
    "### dataframe from dictionary"
   ]
  },
  {
   "cell_type": "code",
   "execution_count": 47,
   "id": "0ef072e5",
   "metadata": {},
   "outputs": [
    {
     "data": {
      "text/html": [
       "<div>\n",
       "<style scoped>\n",
       "    .dataframe tbody tr th:only-of-type {\n",
       "        vertical-align: middle;\n",
       "    }\n",
       "\n",
       "    .dataframe tbody tr th {\n",
       "        vertical-align: top;\n",
       "    }\n",
       "\n",
       "    .dataframe thead th {\n",
       "        text-align: right;\n",
       "    }\n",
       "</style>\n",
       "<table border=\"1\" class=\"dataframe\">\n",
       "  <thead>\n",
       "    <tr style=\"text-align: right;\">\n",
       "      <th></th>\n",
       "      <th>a</th>\n",
       "      <th>b</th>\n",
       "    </tr>\n",
       "  </thead>\n",
       "  <tbody>\n",
       "    <tr>\n",
       "      <th>a</th>\n",
       "      <td>10.0</td>\n",
       "      <td>10</td>\n",
       "    </tr>\n",
       "    <tr>\n",
       "      <th>b</th>\n",
       "      <td>11.0</td>\n",
       "      <td>11</td>\n",
       "    </tr>\n",
       "    <tr>\n",
       "      <th>c</th>\n",
       "      <td>12.0</td>\n",
       "      <td>12</td>\n",
       "    </tr>\n",
       "    <tr>\n",
       "      <th>d</th>\n",
       "      <td>NaN</td>\n",
       "      <td>13</td>\n",
       "    </tr>\n",
       "  </tbody>\n",
       "</table>\n",
       "</div>"
      ],
      "text/plain": [
       "      a   b\n",
       "a  10.0  10\n",
       "b  11.0  11\n",
       "c  12.0  12\n",
       "d   NaN  13"
      ]
     },
     "execution_count": 47,
     "metadata": {},
     "output_type": "execute_result"
    }
   ],
   "source": [
    "a={'a':pd.Series([10,11,12],index=['a','b','c']),'b':pd.Series([10,11,12,13],index=['a','b','c','d'])}\n",
    "tab=pd.DataFrame(a)\n",
    "tab"
   ]
  },
  {
   "cell_type": "code",
   "execution_count": 48,
   "id": "4f48e7d2",
   "metadata": {},
   "outputs": [
    {
     "data": {
      "text/html": [
       "<div>\n",
       "<style scoped>\n",
       "    .dataframe tbody tr th:only-of-type {\n",
       "        vertical-align: middle;\n",
       "    }\n",
       "\n",
       "    .dataframe tbody tr th {\n",
       "        vertical-align: top;\n",
       "    }\n",
       "\n",
       "    .dataframe thead th {\n",
       "        text-align: right;\n",
       "    }\n",
       "</style>\n",
       "<table border=\"1\" class=\"dataframe\">\n",
       "  <thead>\n",
       "    <tr style=\"text-align: right;\">\n",
       "      <th></th>\n",
       "      <th>0</th>\n",
       "      <th>1</th>\n",
       "      <th>2</th>\n",
       "    </tr>\n",
       "  </thead>\n",
       "  <tbody>\n",
       "    <tr>\n",
       "      <th>0</th>\n",
       "      <td>ravi</td>\n",
       "      <td>30</td>\n",
       "      <td>50000</td>\n",
       "    </tr>\n",
       "    <tr>\n",
       "      <th>1</th>\n",
       "      <td>anil</td>\n",
       "      <td>25</td>\n",
       "      <td>30000</td>\n",
       "    </tr>\n",
       "    <tr>\n",
       "      <th>2</th>\n",
       "      <td>sri</td>\n",
       "      <td>28</td>\n",
       "      <td>40000</td>\n",
       "    </tr>\n",
       "  </tbody>\n",
       "</table>\n",
       "</div>"
      ],
      "text/plain": [
       "      0   1      2\n",
       "0  ravi  30  50000\n",
       "1  anil  25  30000\n",
       "2   sri  28  40000"
      ]
     },
     "execution_count": 48,
     "metadata": {},
     "output_type": "execute_result"
    }
   ],
   "source": [
    "l1=[['ravi',30,50000],['anil',25,30000],['sri',28,40000]]\n",
    "df4=pd.DataFrame(l1)\n",
    "df4"
   ]
  },
  {
   "cell_type": "markdown",
   "id": "13bace23",
   "metadata": {},
   "source": [
    "### dataframe NaN"
   ]
  },
  {
   "cell_type": "code",
   "execution_count": 49,
   "id": "92215072",
   "metadata": {},
   "outputs": [
    {
     "data": {
      "text/html": [
       "<div>\n",
       "<style scoped>\n",
       "    .dataframe tbody tr th:only-of-type {\n",
       "        vertical-align: middle;\n",
       "    }\n",
       "\n",
       "    .dataframe tbody tr th {\n",
       "        vertical-align: top;\n",
       "    }\n",
       "\n",
       "    .dataframe thead th {\n",
       "        text-align: right;\n",
       "    }\n",
       "</style>\n",
       "<table border=\"1\" class=\"dataframe\">\n",
       "  <thead>\n",
       "    <tr style=\"text-align: right;\">\n",
       "      <th></th>\n",
       "      <th>0</th>\n",
       "      <th>1</th>\n",
       "      <th>2</th>\n",
       "      <th>3</th>\n",
       "    </tr>\n",
       "  </thead>\n",
       "  <tbody>\n",
       "    <tr>\n",
       "      <th>0</th>\n",
       "      <td>ravi</td>\n",
       "      <td>30</td>\n",
       "      <td>50000</td>\n",
       "      <td>NaN</td>\n",
       "    </tr>\n",
       "    <tr>\n",
       "      <th>1</th>\n",
       "      <td>anil</td>\n",
       "      <td>25</td>\n",
       "      <td>30000</td>\n",
       "      <td>NaN</td>\n",
       "    </tr>\n",
       "    <tr>\n",
       "      <th>2</th>\n",
       "      <td>sri</td>\n",
       "      <td>shetty</td>\n",
       "      <td>28</td>\n",
       "      <td>40000.0</td>\n",
       "    </tr>\n",
       "  </tbody>\n",
       "</table>\n",
       "</div>"
      ],
      "text/plain": [
       "      0       1      2        3\n",
       "0  ravi      30  50000      NaN\n",
       "1  anil      25  30000      NaN\n",
       "2   sri  shetty     28  40000.0"
      ]
     },
     "execution_count": 49,
     "metadata": {},
     "output_type": "execute_result"
    }
   ],
   "source": [
    "l1=[['ravi',30,50000],['anil',25,30000],['sri','shetty',28,40000]]\n",
    "df4=pd.DataFrame(l1)\n",
    "df4"
   ]
  },
  {
   "cell_type": "code",
   "execution_count": 50,
   "id": "c741cee2",
   "metadata": {},
   "outputs": [
    {
     "data": {
      "text/html": [
       "<div>\n",
       "<style scoped>\n",
       "    .dataframe tbody tr th:only-of-type {\n",
       "        vertical-align: middle;\n",
       "    }\n",
       "\n",
       "    .dataframe tbody tr th {\n",
       "        vertical-align: top;\n",
       "    }\n",
       "\n",
       "    .dataframe thead th {\n",
       "        text-align: right;\n",
       "    }\n",
       "</style>\n",
       "<table border=\"1\" class=\"dataframe\">\n",
       "  <thead>\n",
       "    <tr style=\"text-align: right;\">\n",
       "      <th></th>\n",
       "      <th>name</th>\n",
       "      <th>age</th>\n",
       "      <th>lastname</th>\n",
       "    </tr>\n",
       "  </thead>\n",
       "  <tbody>\n",
       "    <tr>\n",
       "      <th>0</th>\n",
       "      <td>ravi</td>\n",
       "      <td>30</td>\n",
       "      <td>NaN</td>\n",
       "    </tr>\n",
       "    <tr>\n",
       "      <th>1</th>\n",
       "      <td>anil</td>\n",
       "      <td>25</td>\n",
       "      <td>NaN</td>\n",
       "    </tr>\n",
       "    <tr>\n",
       "      <th>2</th>\n",
       "      <td>sri</td>\n",
       "      <td>30</td>\n",
       "      <td>shetty</td>\n",
       "    </tr>\n",
       "    <tr>\n",
       "      <th>3</th>\n",
       "      <td>nick</td>\n",
       "      <td>23</td>\n",
       "      <td>NaN</td>\n",
       "    </tr>\n",
       "  </tbody>\n",
       "</table>\n",
       "</div>"
      ],
      "text/plain": [
       "   name  age lastname\n",
       "0  ravi   30      NaN\n",
       "1  anil   25      NaN\n",
       "2   sri   30   shetty\n",
       "3  nick   23      NaN"
      ]
     },
     "execution_count": 50,
     "metadata": {},
     "output_type": "execute_result"
    }
   ],
   "source": [
    "l1=[{'name':'ravi','age':30},{'name':'anil','age':25},{'name':'sri','age':30,'lastname':'shetty'},{'name':'nick','age':23}]\n",
    "df=pd.DataFrame(l1)\n",
    "df"
   ]
  },
  {
   "cell_type": "markdown",
   "id": "5b233f82",
   "metadata": {},
   "source": [
    "### Row index"
   ]
  },
  {
   "cell_type": "code",
   "execution_count": 51,
   "id": "408312ef",
   "metadata": {
    "scrolled": true
   },
   "outputs": [
    {
     "data": {
      "text/html": [
       "<div>\n",
       "<style scoped>\n",
       "    .dataframe tbody tr th:only-of-type {\n",
       "        vertical-align: middle;\n",
       "    }\n",
       "\n",
       "    .dataframe tbody tr th {\n",
       "        vertical-align: top;\n",
       "    }\n",
       "\n",
       "    .dataframe thead th {\n",
       "        text-align: right;\n",
       "    }\n",
       "</style>\n",
       "<table border=\"1\" class=\"dataframe\">\n",
       "  <thead>\n",
       "    <tr style=\"text-align: right;\">\n",
       "      <th></th>\n",
       "      <th>name</th>\n",
       "      <th>age</th>\n",
       "      <th>lastname</th>\n",
       "    </tr>\n",
       "  </thead>\n",
       "  <tbody>\n",
       "    <tr>\n",
       "      <th>R1</th>\n",
       "      <td>ravi</td>\n",
       "      <td>30</td>\n",
       "      <td>NaN</td>\n",
       "    </tr>\n",
       "    <tr>\n",
       "      <th>R2</th>\n",
       "      <td>anil</td>\n",
       "      <td>25</td>\n",
       "      <td>NaN</td>\n",
       "    </tr>\n",
       "    <tr>\n",
       "      <th>R3</th>\n",
       "      <td>sri</td>\n",
       "      <td>30</td>\n",
       "      <td>shetty</td>\n",
       "    </tr>\n",
       "    <tr>\n",
       "      <th>R4</th>\n",
       "      <td>nick</td>\n",
       "      <td>23</td>\n",
       "      <td>NaN</td>\n",
       "    </tr>\n",
       "  </tbody>\n",
       "</table>\n",
       "</div>"
      ],
      "text/plain": [
       "    name  age lastname\n",
       "R1  ravi   30      NaN\n",
       "R2  anil   25      NaN\n",
       "R3   sri   30   shetty\n",
       "R4  nick   23      NaN"
      ]
     },
     "execution_count": 51,
     "metadata": {},
     "output_type": "execute_result"
    }
   ],
   "source": [
    "l1=[{'name':'ravi','age':30},{'name':'anil','age':25},{'name':'sri','age':30,'lastname':'shetty'},{'name':'nick','age':23}]\n",
    "df=pd.DataFrame(l1,index=['R1','R2','R3','R4'])\n",
    "df"
   ]
  },
  {
   "cell_type": "code",
   "execution_count": 52,
   "id": "9ba56449",
   "metadata": {},
   "outputs": [
    {
     "data": {
      "text/plain": [
       "a    10\n",
       "b    11\n",
       "c    12\n",
       "dtype: int64"
      ]
     },
     "execution_count": 52,
     "metadata": {},
     "output_type": "execute_result"
    }
   ],
   "source": [
    "pd.Series([10,11,12],index = ['a','b','c'])"
   ]
  },
  {
   "cell_type": "code",
   "execution_count": 53,
   "id": "47ff714b",
   "metadata": {},
   "outputs": [
    {
     "data": {
      "text/html": [
       "<div>\n",
       "<style scoped>\n",
       "    .dataframe tbody tr th:only-of-type {\n",
       "        vertical-align: middle;\n",
       "    }\n",
       "\n",
       "    .dataframe tbody tr th {\n",
       "        vertical-align: top;\n",
       "    }\n",
       "\n",
       "    .dataframe thead th {\n",
       "        text-align: right;\n",
       "    }\n",
       "</style>\n",
       "<table border=\"1\" class=\"dataframe\">\n",
       "  <thead>\n",
       "    <tr style=\"text-align: right;\">\n",
       "      <th></th>\n",
       "      <th>one</th>\n",
       "      <th>two</th>\n",
       "    </tr>\n",
       "  </thead>\n",
       "  <tbody>\n",
       "    <tr>\n",
       "      <th>a</th>\n",
       "      <td>10.0</td>\n",
       "      <td>10</td>\n",
       "    </tr>\n",
       "    <tr>\n",
       "      <th>b</th>\n",
       "      <td>11.0</td>\n",
       "      <td>11</td>\n",
       "    </tr>\n",
       "    <tr>\n",
       "      <th>c</th>\n",
       "      <td>12.0</td>\n",
       "      <td>12</td>\n",
       "    </tr>\n",
       "    <tr>\n",
       "      <th>d</th>\n",
       "      <td>NaN</td>\n",
       "      <td>13</td>\n",
       "    </tr>\n",
       "  </tbody>\n",
       "</table>\n",
       "</div>"
      ],
      "text/plain": [
       "    one  two\n",
       "a  10.0   10\n",
       "b  11.0   11\n",
       "c  12.0   12\n",
       "d   NaN   13"
      ]
     },
     "execution_count": 53,
     "metadata": {},
     "output_type": "execute_result"
    }
   ],
   "source": [
    "d1={'one':pd.Series([10,11,12],index=['a','b','c']),'two':pd.Series([10,11,12,13],index=['a','b','c','d'])}\n",
    "df=pd.DataFrame(d1)\n",
    "df"
   ]
  },
  {
   "cell_type": "markdown",
   "id": "c033ad89",
   "metadata": {},
   "source": [
    "### addition of new column to dataframe(column)"
   ]
  },
  {
   "cell_type": "code",
   "execution_count": 54,
   "id": "ef5638e9",
   "metadata": {
    "scrolled": true
   },
   "outputs": [
    {
     "data": {
      "text/html": [
       "<div>\n",
       "<style scoped>\n",
       "    .dataframe tbody tr th:only-of-type {\n",
       "        vertical-align: middle;\n",
       "    }\n",
       "\n",
       "    .dataframe tbody tr th {\n",
       "        vertical-align: top;\n",
       "    }\n",
       "\n",
       "    .dataframe thead th {\n",
       "        text-align: right;\n",
       "    }\n",
       "</style>\n",
       "<table border=\"1\" class=\"dataframe\">\n",
       "  <thead>\n",
       "    <tr style=\"text-align: right;\">\n",
       "      <th></th>\n",
       "      <th>ID</th>\n",
       "      <th>name</th>\n",
       "      <th>profit</th>\n",
       "    </tr>\n",
       "  </thead>\n",
       "  <tbody>\n",
       "    <tr>\n",
       "      <th>0</th>\n",
       "      <td>101</td>\n",
       "      <td>john</td>\n",
       "      <td>20</td>\n",
       "    </tr>\n",
       "    <tr>\n",
       "      <th>1</th>\n",
       "      <td>102</td>\n",
       "      <td>mercy</td>\n",
       "      <td>34</td>\n",
       "    </tr>\n",
       "    <tr>\n",
       "      <th>2</th>\n",
       "      <td>103</td>\n",
       "      <td>akash</td>\n",
       "      <td>56</td>\n",
       "    </tr>\n",
       "    <tr>\n",
       "      <th>3</th>\n",
       "      <td>104</td>\n",
       "      <td>kavin</td>\n",
       "      <td>87</td>\n",
       "    </tr>\n",
       "    <tr>\n",
       "      <th>4</th>\n",
       "      <td>105</td>\n",
       "      <td>lally</td>\n",
       "      <td>70</td>\n",
       "    </tr>\n",
       "  </tbody>\n",
       "</table>\n",
       "</div>"
      ],
      "text/plain": [
       "    ID   name  profit\n",
       "0  101   john      20\n",
       "1  102  mercy      34\n",
       "2  103  akash      56\n",
       "3  104  kavin      87\n",
       "4  105  lally      70"
      ]
     },
     "execution_count": 54,
     "metadata": {},
     "output_type": "execute_result"
    }
   ],
   "source": [
    "df3={'ID':[101,102,103,104,105],'name':['john','mercy','akash','kavin','lally'],'profit':[20,34,56,87,70]}\n",
    "df=pd.DataFrame(df3)\n",
    "df"
   ]
  },
  {
   "cell_type": "code",
   "execution_count": 55,
   "id": "7b6137db",
   "metadata": {},
   "outputs": [
    {
     "data": {
      "text/html": [
       "<div>\n",
       "<style scoped>\n",
       "    .dataframe tbody tr th:only-of-type {\n",
       "        vertical-align: middle;\n",
       "    }\n",
       "\n",
       "    .dataframe tbody tr th {\n",
       "        vertical-align: top;\n",
       "    }\n",
       "\n",
       "    .dataframe thead th {\n",
       "        text-align: right;\n",
       "    }\n",
       "</style>\n",
       "<table border=\"1\" class=\"dataframe\">\n",
       "  <thead>\n",
       "    <tr style=\"text-align: right;\">\n",
       "      <th></th>\n",
       "      <th>ID</th>\n",
       "      <th>name</th>\n",
       "      <th>profit</th>\n",
       "      <th>salary</th>\n",
       "    </tr>\n",
       "  </thead>\n",
       "  <tbody>\n",
       "    <tr>\n",
       "      <th>0</th>\n",
       "      <td>101</td>\n",
       "      <td>john</td>\n",
       "      <td>20</td>\n",
       "      <td>10000</td>\n",
       "    </tr>\n",
       "    <tr>\n",
       "      <th>1</th>\n",
       "      <td>102</td>\n",
       "      <td>mercy</td>\n",
       "      <td>34</td>\n",
       "      <td>15000</td>\n",
       "    </tr>\n",
       "    <tr>\n",
       "      <th>2</th>\n",
       "      <td>103</td>\n",
       "      <td>akash</td>\n",
       "      <td>56</td>\n",
       "      <td>20000</td>\n",
       "    </tr>\n",
       "    <tr>\n",
       "      <th>3</th>\n",
       "      <td>104</td>\n",
       "      <td>kavin</td>\n",
       "      <td>87</td>\n",
       "      <td>25000</td>\n",
       "    </tr>\n",
       "    <tr>\n",
       "      <th>4</th>\n",
       "      <td>105</td>\n",
       "      <td>lally</td>\n",
       "      <td>70</td>\n",
       "      <td>30000</td>\n",
       "    </tr>\n",
       "  </tbody>\n",
       "</table>\n",
       "</div>"
      ],
      "text/plain": [
       "    ID   name  profit  salary\n",
       "0  101   john      20   10000\n",
       "1  102  mercy      34   15000\n",
       "2  103  akash      56   20000\n",
       "3  104  kavin      87   25000\n",
       "4  105  lally      70   30000"
      ]
     },
     "execution_count": 55,
     "metadata": {},
     "output_type": "execute_result"
    }
   ],
   "source": [
    "#if more column values it wont be added\n",
    "df['salary']=pd.Series([10000,15000,20000,25000,30000],index=[0,1,2,3,4])\n",
    "df"
   ]
  },
  {
   "cell_type": "markdown",
   "id": "dabace11",
   "metadata": {},
   "source": [
    "### print columns"
   ]
  },
  {
   "cell_type": "code",
   "execution_count": 56,
   "id": "87873758",
   "metadata": {},
   "outputs": [
    {
     "name": "stdout",
     "output_type": "stream",
     "text": [
      "name\n"
     ]
    }
   ],
   "source": [
    "print(df.columns[1])"
   ]
  },
  {
   "cell_type": "code",
   "execution_count": 57,
   "id": "21c6c2ee",
   "metadata": {},
   "outputs": [
    {
     "name": "stdout",
     "output_type": "stream",
     "text": [
      "Index(['name', 'profit'], dtype='object')\n"
     ]
    }
   ],
   "source": [
    "print(df.columns[1:3])"
   ]
  },
  {
   "cell_type": "code",
   "execution_count": 58,
   "id": "168f284b",
   "metadata": {},
   "outputs": [
    {
     "name": "stdout",
     "output_type": "stream",
     "text": [
      "0     john\n",
      "1    mercy\n",
      "2    akash\n",
      "3    kavin\n",
      "4    lally\n",
      "Name: name, dtype: object\n"
     ]
    }
   ],
   "source": [
    "print(df[df.columns[1]])"
   ]
  },
  {
   "cell_type": "code",
   "execution_count": 59,
   "id": "5622f71a",
   "metadata": {},
   "outputs": [
    {
     "name": "stdout",
     "output_type": "stream",
     "text": [
      "    ID   name\n",
      "0  101   john\n",
      "1  102  mercy\n",
      "2  103  akash\n",
      "3  104  kavin\n",
      "4  105  lally\n"
     ]
    }
   ],
   "source": [
    "print(df[df.columns[0:2]])"
   ]
  },
  {
   "cell_type": "code",
   "execution_count": 60,
   "id": "32957e28",
   "metadata": {},
   "outputs": [
    {
     "data": {
      "text/html": [
       "<div>\n",
       "<style scoped>\n",
       "    .dataframe tbody tr th:only-of-type {\n",
       "        vertical-align: middle;\n",
       "    }\n",
       "\n",
       "    .dataframe tbody tr th {\n",
       "        vertical-align: top;\n",
       "    }\n",
       "\n",
       "    .dataframe thead th {\n",
       "        text-align: right;\n",
       "    }\n",
       "</style>\n",
       "<table border=\"1\" class=\"dataframe\">\n",
       "  <thead>\n",
       "    <tr style=\"text-align: right;\">\n",
       "      <th></th>\n",
       "      <th>ID</th>\n",
       "      <th>name</th>\n",
       "    </tr>\n",
       "  </thead>\n",
       "  <tbody>\n",
       "    <tr>\n",
       "      <th>0</th>\n",
       "      <td>101</td>\n",
       "      <td>john</td>\n",
       "    </tr>\n",
       "    <tr>\n",
       "      <th>1</th>\n",
       "      <td>102</td>\n",
       "      <td>mercy</td>\n",
       "    </tr>\n",
       "    <tr>\n",
       "      <th>2</th>\n",
       "      <td>103</td>\n",
       "      <td>akash</td>\n",
       "    </tr>\n",
       "    <tr>\n",
       "      <th>3</th>\n",
       "      <td>104</td>\n",
       "      <td>kavin</td>\n",
       "    </tr>\n",
       "    <tr>\n",
       "      <th>4</th>\n",
       "      <td>105</td>\n",
       "      <td>lally</td>\n",
       "    </tr>\n",
       "  </tbody>\n",
       "</table>\n",
       "</div>"
      ],
      "text/plain": [
       "    ID   name\n",
       "0  101   john\n",
       "1  102  mercy\n",
       "2  103  akash\n",
       "3  104  kavin\n",
       "4  105  lally"
      ]
     },
     "execution_count": 60,
     "metadata": {},
     "output_type": "execute_result"
    }
   ],
   "source": [
    "df[df.columns[:2]]"
   ]
  },
  {
   "cell_type": "code",
   "execution_count": 61,
   "id": "3ed68bae",
   "metadata": {},
   "outputs": [
    {
     "data": {
      "text/html": [
       "<div>\n",
       "<style scoped>\n",
       "    .dataframe tbody tr th:only-of-type {\n",
       "        vertical-align: middle;\n",
       "    }\n",
       "\n",
       "    .dataframe tbody tr th {\n",
       "        vertical-align: top;\n",
       "    }\n",
       "\n",
       "    .dataframe thead th {\n",
       "        text-align: right;\n",
       "    }\n",
       "</style>\n",
       "<table border=\"1\" class=\"dataframe\">\n",
       "  <thead>\n",
       "    <tr style=\"text-align: right;\">\n",
       "      <th></th>\n",
       "      <th>name</th>\n",
       "      <th>profit</th>\n",
       "      <th>salary</th>\n",
       "    </tr>\n",
       "  </thead>\n",
       "  <tbody>\n",
       "    <tr>\n",
       "      <th>0</th>\n",
       "      <td>john</td>\n",
       "      <td>20</td>\n",
       "      <td>10000</td>\n",
       "    </tr>\n",
       "    <tr>\n",
       "      <th>1</th>\n",
       "      <td>mercy</td>\n",
       "      <td>34</td>\n",
       "      <td>15000</td>\n",
       "    </tr>\n",
       "    <tr>\n",
       "      <th>2</th>\n",
       "      <td>akash</td>\n",
       "      <td>56</td>\n",
       "      <td>20000</td>\n",
       "    </tr>\n",
       "    <tr>\n",
       "      <th>3</th>\n",
       "      <td>kavin</td>\n",
       "      <td>87</td>\n",
       "      <td>25000</td>\n",
       "    </tr>\n",
       "    <tr>\n",
       "      <th>4</th>\n",
       "      <td>lally</td>\n",
       "      <td>70</td>\n",
       "      <td>30000</td>\n",
       "    </tr>\n",
       "  </tbody>\n",
       "</table>\n",
       "</div>"
      ],
      "text/plain": [
       "    name  profit  salary\n",
       "0   john      20   10000\n",
       "1  mercy      34   15000\n",
       "2  akash      56   20000\n",
       "3  kavin      87   25000\n",
       "4  lally      70   30000"
      ]
     },
     "execution_count": 61,
     "metadata": {},
     "output_type": "execute_result"
    }
   ],
   "source": [
    "df[df.columns[1:]]"
   ]
  },
  {
   "cell_type": "markdown",
   "id": "5ca80779",
   "metadata": {},
   "source": [
    "### row naming"
   ]
  },
  {
   "cell_type": "code",
   "execution_count": 62,
   "id": "7bc9a010",
   "metadata": {},
   "outputs": [
    {
     "name": "stdout",
     "output_type": "stream",
     "text": [
      "R1    josh\n",
      "R2     ash\n",
      "R3     ken\n",
      "R4    nick\n",
      "Name: name, dtype: object\n"
     ]
    }
   ],
   "source": [
    "l2=[{'name':'josh','age':25},{'name':'ash','age':30},{'name':'ken','age':27},{'name':'nick','age':28,'lastname':'kim'}]\n",
    "df2=pd.DataFrame(l2,index=['R1','R2','R3','R4'])\n",
    "print(df2['name'])"
   ]
  },
  {
   "cell_type": "code",
   "execution_count": 63,
   "id": "e51dee6f",
   "metadata": {},
   "outputs": [
    {
     "data": {
      "text/html": [
       "<div>\n",
       "<style scoped>\n",
       "    .dataframe tbody tr th:only-of-type {\n",
       "        vertical-align: middle;\n",
       "    }\n",
       "\n",
       "    .dataframe tbody tr th {\n",
       "        vertical-align: top;\n",
       "    }\n",
       "\n",
       "    .dataframe thead th {\n",
       "        text-align: right;\n",
       "    }\n",
       "</style>\n",
       "<table border=\"1\" class=\"dataframe\">\n",
       "  <thead>\n",
       "    <tr style=\"text-align: right;\">\n",
       "      <th></th>\n",
       "      <th>name</th>\n",
       "      <th>age</th>\n",
       "      <th>lastname</th>\n",
       "    </tr>\n",
       "  </thead>\n",
       "  <tbody>\n",
       "    <tr>\n",
       "      <th>R1</th>\n",
       "      <td>josh</td>\n",
       "      <td>25</td>\n",
       "      <td>NaN</td>\n",
       "    </tr>\n",
       "    <tr>\n",
       "      <th>R2</th>\n",
       "      <td>ash</td>\n",
       "      <td>30</td>\n",
       "      <td>NaN</td>\n",
       "    </tr>\n",
       "    <tr>\n",
       "      <th>R3</th>\n",
       "      <td>ken</td>\n",
       "      <td>27</td>\n",
       "      <td>NaN</td>\n",
       "    </tr>\n",
       "    <tr>\n",
       "      <th>R4</th>\n",
       "      <td>nick</td>\n",
       "      <td>28</td>\n",
       "      <td>kim</td>\n",
       "    </tr>\n",
       "  </tbody>\n",
       "</table>\n",
       "</div>"
      ],
      "text/plain": [
       "    name  age lastname\n",
       "R1  josh   25      NaN\n",
       "R2   ash   30      NaN\n",
       "R3   ken   27      NaN\n",
       "R4  nick   28      kim"
      ]
     },
     "execution_count": 63,
     "metadata": {},
     "output_type": "execute_result"
    }
   ],
   "source": [
    "df2"
   ]
  },
  {
   "cell_type": "code",
   "execution_count": 64,
   "id": "f5901b00",
   "metadata": {},
   "outputs": [
    {
     "name": "stdout",
     "output_type": "stream",
     "text": [
      "    name  age\n",
      "R1  josh   25\n",
      "R2   ash   30\n",
      "R3   ken   27\n",
      "R4  nick   28\n"
     ]
    }
   ],
   "source": [
    "print(df2[['name','age']])"
   ]
  },
  {
   "cell_type": "code",
   "execution_count": 65,
   "id": "7c997f38",
   "metadata": {},
   "outputs": [
    {
     "data": {
      "text/plain": [
       "'age'"
      ]
     },
     "execution_count": 65,
     "metadata": {},
     "output_type": "execute_result"
    }
   ],
   "source": [
    "df2.columns[1]"
   ]
  },
  {
   "cell_type": "code",
   "execution_count": 66,
   "id": "0da78fe1",
   "metadata": {},
   "outputs": [
    {
     "data": {
      "text/plain": [
       "Index(['age', 'lastname'], dtype='object')"
      ]
     },
     "execution_count": 66,
     "metadata": {},
     "output_type": "execute_result"
    }
   ],
   "source": [
    "df2.columns[1:3]"
   ]
  },
  {
   "cell_type": "code",
   "execution_count": 67,
   "id": "7cbf88ef",
   "metadata": {},
   "outputs": [
    {
     "name": "stdout",
     "output_type": "stream",
     "text": [
      "R1    25\n",
      "R2    30\n",
      "R3    27\n",
      "R4    28\n",
      "Name: age, dtype: int64\n"
     ]
    }
   ],
   "source": [
    "print(df2[df2.columns[1]])"
   ]
  },
  {
   "cell_type": "code",
   "execution_count": 68,
   "id": "9cb5e7f6",
   "metadata": {},
   "outputs": [
    {
     "name": "stdout",
     "output_type": "stream",
     "text": [
      "    name  age\n",
      "R1  josh   25\n",
      "R2   ash   30\n",
      "R3   ken   27\n",
      "R4  nick   28\n"
     ]
    }
   ],
   "source": [
    "print(df2[df2.columns[0:2]])"
   ]
  },
  {
   "cell_type": "code",
   "execution_count": 69,
   "id": "a47d05af",
   "metadata": {},
   "outputs": [
    {
     "name": "stdout",
     "output_type": "stream",
     "text": [
      "    name  age\n",
      "R1  josh   25\n",
      "R2   ash   30\n",
      "R3   ken   27\n",
      "R4  nick   28\n"
     ]
    }
   ],
   "source": [
    "print(df2[df2.columns[:2]])"
   ]
  },
  {
   "cell_type": "code",
   "execution_count": 70,
   "id": "3de1b967",
   "metadata": {},
   "outputs": [
    {
     "name": "stdout",
     "output_type": "stream",
     "text": [
      "    age lastname\n",
      "R1   25      NaN\n",
      "R2   30      NaN\n",
      "R3   27      NaN\n",
      "R4   28      kim\n"
     ]
    }
   ],
   "source": [
    "print(df2[df2.columns[1:]])"
   ]
  },
  {
   "cell_type": "markdown",
   "id": "40a87846",
   "metadata": {},
   "source": [
    "### print rows"
   ]
  },
  {
   "cell_type": "code",
   "execution_count": 71,
   "id": "a2297573",
   "metadata": {},
   "outputs": [
    {
     "name": "stdout",
     "output_type": "stream",
     "text": [
      "Index(['R1', 'R2', 'R3', 'R4'], dtype='object')\n"
     ]
    }
   ],
   "source": [
    "print(df2.index)"
   ]
  },
  {
   "cell_type": "code",
   "execution_count": 72,
   "id": "11d74aed",
   "metadata": {},
   "outputs": [
    {
     "name": "stdout",
     "output_type": "stream",
     "text": [
      "name        ash\n",
      "age          30\n",
      "lastname    NaN\n",
      "Name: R2, dtype: object\n"
     ]
    }
   ],
   "source": [
    "print(df2.iloc[1])"
   ]
  },
  {
   "cell_type": "code",
   "execution_count": 73,
   "id": "dd1a0e56",
   "metadata": {},
   "outputs": [
    {
     "name": "stdout",
     "output_type": "stream",
     "text": [
      "   name  age lastname\n",
      "R2  ash   30      NaN\n",
      "R3  ken   27      NaN\n"
     ]
    }
   ],
   "source": [
    "print(df2.iloc[1:3])"
   ]
  },
  {
   "cell_type": "code",
   "execution_count": 74,
   "id": "3bac0b18",
   "metadata": {},
   "outputs": [
    {
     "name": "stdout",
     "output_type": "stream",
     "text": [
      "    name  age lastname\n",
      "R1  josh   25      NaN\n",
      "R2   ash   30      NaN\n",
      "R3   ken   27      NaN\n"
     ]
    }
   ],
   "source": [
    "print(df2.iloc[:3])"
   ]
  },
  {
   "cell_type": "code",
   "execution_count": 75,
   "id": "a4fa5e72",
   "metadata": {},
   "outputs": [
    {
     "name": "stdout",
     "output_type": "stream",
     "text": [
      "    name  age lastname\n",
      "R2   ash   30      NaN\n",
      "R3   ken   27      NaN\n",
      "R4  nick   28      kim\n"
     ]
    }
   ],
   "source": [
    "print(df2.iloc[1:])"
   ]
  },
  {
   "cell_type": "code",
   "execution_count": 76,
   "id": "886afca6",
   "metadata": {},
   "outputs": [
    {
     "name": "stdout",
     "output_type": "stream",
     "text": [
      "['R1' 'R2' 'R3' 'R4']\n"
     ]
    }
   ],
   "source": [
    "print(df2.index.values)"
   ]
  },
  {
   "cell_type": "code",
   "execution_count": 77,
   "id": "0c746cc0",
   "metadata": {},
   "outputs": [
    {
     "name": "stdout",
     "output_type": "stream",
     "text": [
      "R2\n"
     ]
    }
   ],
   "source": [
    "print(df2.index.values[1])"
   ]
  },
  {
   "cell_type": "code",
   "execution_count": 78,
   "id": "2d504d41",
   "metadata": {},
   "outputs": [
    {
     "name": "stdout",
     "output_type": "stream",
     "text": [
      "['R2' 'R3']\n"
     ]
    }
   ],
   "source": [
    "print(df2.index.values[1:3])"
   ]
  },
  {
   "cell_type": "markdown",
   "id": "4bcad19c",
   "metadata": {},
   "source": [
    "### print column name"
   ]
  },
  {
   "cell_type": "code",
   "execution_count": 79,
   "id": "2392c471",
   "metadata": {},
   "outputs": [
    {
     "name": "stdout",
     "output_type": "stream",
     "text": [
      "name        josh\n",
      "age           25\n",
      "lastname     NaN\n",
      "Name: R1, dtype: object\n"
     ]
    }
   ],
   "source": [
    "print(df2.loc['R1'])"
   ]
  },
  {
   "cell_type": "code",
   "execution_count": 80,
   "id": "6c5dd5b6",
   "metadata": {},
   "outputs": [
    {
     "name": "stdout",
     "output_type": "stream",
     "text": [
      "    name  age lastname\n",
      "R2   ash   30      NaN\n",
      "R3   ken   27      NaN\n",
      "R4  nick   28      kim\n"
     ]
    }
   ],
   "source": [
    "print(df2.loc['R2':])"
   ]
  },
  {
   "cell_type": "code",
   "execution_count": 81,
   "id": "c833578b",
   "metadata": {},
   "outputs": [
    {
     "name": "stdout",
     "output_type": "stream",
     "text": [
      "    name  age lastname\n",
      "R1  josh   25      NaN\n",
      "R2   ash   30      NaN\n",
      "R3   ken   27      NaN\n"
     ]
    }
   ],
   "source": [
    "print(df2.loc[:'R3'])"
   ]
  },
  {
   "cell_type": "markdown",
   "id": "bde30012",
   "metadata": {},
   "source": [
    "### print rows and columns"
   ]
  },
  {
   "cell_type": "code",
   "execution_count": 82,
   "id": "746195e3",
   "metadata": {},
   "outputs": [
    {
     "data": {
      "text/html": [
       "<div>\n",
       "<style scoped>\n",
       "    .dataframe tbody tr th:only-of-type {\n",
       "        vertical-align: middle;\n",
       "    }\n",
       "\n",
       "    .dataframe tbody tr th {\n",
       "        vertical-align: top;\n",
       "    }\n",
       "\n",
       "    .dataframe thead th {\n",
       "        text-align: right;\n",
       "    }\n",
       "</style>\n",
       "<table border=\"1\" class=\"dataframe\">\n",
       "  <thead>\n",
       "    <tr style=\"text-align: right;\">\n",
       "      <th></th>\n",
       "      <th>name</th>\n",
       "    </tr>\n",
       "  </thead>\n",
       "  <tbody>\n",
       "    <tr>\n",
       "      <th>R2</th>\n",
       "      <td>ash</td>\n",
       "    </tr>\n",
       "  </tbody>\n",
       "</table>\n",
       "</div>"
      ],
      "text/plain": [
       "   name\n",
       "R2  ash"
      ]
     },
     "execution_count": 82,
     "metadata": {},
     "output_type": "execute_result"
    }
   ],
   "source": [
    "df2.iloc[1:2,0:1]"
   ]
  },
  {
   "cell_type": "markdown",
   "id": "258d90fe",
   "metadata": {},
   "source": [
    "### addition of rows"
   ]
  },
  {
   "cell_type": "code",
   "execution_count": 83,
   "id": "26987f6c",
   "metadata": {
    "scrolled": true
   },
   "outputs": [
    {
     "data": {
      "text/html": [
       "<div>\n",
       "<style scoped>\n",
       "    .dataframe tbody tr th:only-of-type {\n",
       "        vertical-align: middle;\n",
       "    }\n",
       "\n",
       "    .dataframe tbody tr th {\n",
       "        vertical-align: top;\n",
       "    }\n",
       "\n",
       "    .dataframe thead th {\n",
       "        text-align: right;\n",
       "    }\n",
       "</style>\n",
       "<table border=\"1\" class=\"dataframe\">\n",
       "  <thead>\n",
       "    <tr style=\"text-align: right;\">\n",
       "      <th></th>\n",
       "      <th>name</th>\n",
       "      <th>maths</th>\n",
       "      <th>science</th>\n",
       "    </tr>\n",
       "  </thead>\n",
       "  <tbody>\n",
       "    <tr>\n",
       "      <th>0</th>\n",
       "      <td>aish</td>\n",
       "      <td>87</td>\n",
       "      <td>74</td>\n",
       "    </tr>\n",
       "    <tr>\n",
       "      <th>1</th>\n",
       "      <td>priya</td>\n",
       "      <td>99</td>\n",
       "      <td>90</td>\n",
       "    </tr>\n",
       "    <tr>\n",
       "      <th>2</th>\n",
       "      <td>ren</td>\n",
       "      <td>92</td>\n",
       "      <td>91</td>\n",
       "    </tr>\n",
       "    <tr>\n",
       "      <th>3</th>\n",
       "      <td>thyme</td>\n",
       "      <td>75</td>\n",
       "      <td>86</td>\n",
       "    </tr>\n",
       "  </tbody>\n",
       "</table>\n",
       "</div>"
      ],
      "text/plain": [
       "    name  maths  science\n",
       "0   aish     87       74\n",
       "1  priya     99       90\n",
       "2    ren     92       91\n",
       "3  thyme     75       86"
      ]
     },
     "metadata": {},
     "output_type": "display_data"
    },
    {
     "data": {
      "text/html": [
       "<div>\n",
       "<style scoped>\n",
       "    .dataframe tbody tr th:only-of-type {\n",
       "        vertical-align: middle;\n",
       "    }\n",
       "\n",
       "    .dataframe tbody tr th {\n",
       "        vertical-align: top;\n",
       "    }\n",
       "\n",
       "    .dataframe thead th {\n",
       "        text-align: right;\n",
       "    }\n",
       "</style>\n",
       "<table border=\"1\" class=\"dataframe\">\n",
       "  <thead>\n",
       "    <tr style=\"text-align: right;\">\n",
       "      <th></th>\n",
       "      <th>name</th>\n",
       "      <th>maths</th>\n",
       "      <th>science</th>\n",
       "    </tr>\n",
       "  </thead>\n",
       "  <tbody>\n",
       "    <tr>\n",
       "      <th>0</th>\n",
       "      <td>georia</td>\n",
       "      <td>89</td>\n",
       "      <td>89</td>\n",
       "    </tr>\n",
       "    <tr>\n",
       "      <th>1</th>\n",
       "      <td>amy</td>\n",
       "      <td>96</td>\n",
       "      <td>98</td>\n",
       "    </tr>\n",
       "  </tbody>\n",
       "</table>\n",
       "</div>"
      ],
      "text/plain": [
       "     name  maths  science\n",
       "0  georia     89       89\n",
       "1     amy     96       98"
      ]
     },
     "metadata": {},
     "output_type": "display_data"
    },
    {
     "data": {
      "text/html": [
       "<div>\n",
       "<style scoped>\n",
       "    .dataframe tbody tr th:only-of-type {\n",
       "        vertical-align: middle;\n",
       "    }\n",
       "\n",
       "    .dataframe tbody tr th {\n",
       "        vertical-align: top;\n",
       "    }\n",
       "\n",
       "    .dataframe thead th {\n",
       "        text-align: right;\n",
       "    }\n",
       "</style>\n",
       "<table border=\"1\" class=\"dataframe\">\n",
       "  <thead>\n",
       "    <tr style=\"text-align: right;\">\n",
       "      <th></th>\n",
       "      <th>name</th>\n",
       "      <th>maths</th>\n",
       "      <th>science</th>\n",
       "    </tr>\n",
       "  </thead>\n",
       "  <tbody>\n",
       "    <tr>\n",
       "      <th>0</th>\n",
       "      <td>aish</td>\n",
       "      <td>87</td>\n",
       "      <td>74</td>\n",
       "    </tr>\n",
       "    <tr>\n",
       "      <th>1</th>\n",
       "      <td>priya</td>\n",
       "      <td>99</td>\n",
       "      <td>90</td>\n",
       "    </tr>\n",
       "    <tr>\n",
       "      <th>2</th>\n",
       "      <td>ren</td>\n",
       "      <td>92</td>\n",
       "      <td>91</td>\n",
       "    </tr>\n",
       "    <tr>\n",
       "      <th>3</th>\n",
       "      <td>thyme</td>\n",
       "      <td>75</td>\n",
       "      <td>86</td>\n",
       "    </tr>\n",
       "    <tr>\n",
       "      <th>4</th>\n",
       "      <td>georia</td>\n",
       "      <td>89</td>\n",
       "      <td>89</td>\n",
       "    </tr>\n",
       "    <tr>\n",
       "      <th>5</th>\n",
       "      <td>amy</td>\n",
       "      <td>96</td>\n",
       "      <td>98</td>\n",
       "    </tr>\n",
       "  </tbody>\n",
       "</table>\n",
       "</div>"
      ],
      "text/plain": [
       "     name  maths  science\n",
       "0    aish     87       74\n",
       "1   priya     99       90\n",
       "2     ren     92       91\n",
       "3   thyme     75       86\n",
       "4  georia     89       89\n",
       "5     amy     96       98"
      ]
     },
     "metadata": {},
     "output_type": "display_data"
    }
   ],
   "source": [
    "import numpy as np\n",
    "import pandas as pd\n",
    "d5={'name':['aish','priya','ren','thyme'],'maths':[87,99,92,75],'science':[74,90,91,86]}\n",
    "df1=pd.DataFrame(d5)\n",
    "display(df1)\n",
    "d5={'name':['georia','amy'],'maths':[89,96],'science':[89,98]}\n",
    "df2=pd.DataFrame(d5)\n",
    "display(df2)\n",
    "df3=pd.concat([df1,df2],ignore_index=True)\n",
    "df3.reset_index()\n",
    "display(df3)"
   ]
  },
  {
   "cell_type": "markdown",
   "id": "6d5cfa78",
   "metadata": {},
   "source": [
    "### drop rows"
   ]
  },
  {
   "cell_type": "code",
   "execution_count": 84,
   "id": "a02d29d7",
   "metadata": {},
   "outputs": [
    {
     "data": {
      "text/html": [
       "<div>\n",
       "<style scoped>\n",
       "    .dataframe tbody tr th:only-of-type {\n",
       "        vertical-align: middle;\n",
       "    }\n",
       "\n",
       "    .dataframe tbody tr th {\n",
       "        vertical-align: top;\n",
       "    }\n",
       "\n",
       "    .dataframe thead th {\n",
       "        text-align: right;\n",
       "    }\n",
       "</style>\n",
       "<table border=\"1\" class=\"dataframe\">\n",
       "  <thead>\n",
       "    <tr style=\"text-align: right;\">\n",
       "      <th></th>\n",
       "      <th>name</th>\n",
       "      <th>maths</th>\n",
       "      <th>science</th>\n",
       "    </tr>\n",
       "  </thead>\n",
       "  <tbody>\n",
       "    <tr>\n",
       "      <th>1</th>\n",
       "      <td>priya</td>\n",
       "      <td>99</td>\n",
       "      <td>90</td>\n",
       "    </tr>\n",
       "    <tr>\n",
       "      <th>2</th>\n",
       "      <td>ren</td>\n",
       "      <td>92</td>\n",
       "      <td>91</td>\n",
       "    </tr>\n",
       "    <tr>\n",
       "      <th>3</th>\n",
       "      <td>thyme</td>\n",
       "      <td>75</td>\n",
       "      <td>86</td>\n",
       "    </tr>\n",
       "    <tr>\n",
       "      <th>4</th>\n",
       "      <td>georia</td>\n",
       "      <td>89</td>\n",
       "      <td>89</td>\n",
       "    </tr>\n",
       "    <tr>\n",
       "      <th>5</th>\n",
       "      <td>amy</td>\n",
       "      <td>96</td>\n",
       "      <td>98</td>\n",
       "    </tr>\n",
       "  </tbody>\n",
       "</table>\n",
       "</div>"
      ],
      "text/plain": [
       "     name  maths  science\n",
       "1   priya     99       90\n",
       "2     ren     92       91\n",
       "3   thyme     75       86\n",
       "4  georia     89       89\n",
       "5     amy     96       98"
      ]
     },
     "execution_count": 84,
     "metadata": {},
     "output_type": "execute_result"
    }
   ],
   "source": [
    "df3=df3.drop(0)\n",
    "df3"
   ]
  },
  {
   "cell_type": "code",
   "execution_count": 85,
   "id": "fe605720",
   "metadata": {},
   "outputs": [
    {
     "data": {
      "text/html": [
       "<div>\n",
       "<style scoped>\n",
       "    .dataframe tbody tr th:only-of-type {\n",
       "        vertical-align: middle;\n",
       "    }\n",
       "\n",
       "    .dataframe tbody tr th {\n",
       "        vertical-align: top;\n",
       "    }\n",
       "\n",
       "    .dataframe thead th {\n",
       "        text-align: right;\n",
       "    }\n",
       "</style>\n",
       "<table border=\"1\" class=\"dataframe\">\n",
       "  <thead>\n",
       "    <tr style=\"text-align: right;\">\n",
       "      <th></th>\n",
       "      <th>name</th>\n",
       "      <th>maths</th>\n",
       "      <th>science</th>\n",
       "    </tr>\n",
       "  </thead>\n",
       "  <tbody>\n",
       "    <tr>\n",
       "      <th>1</th>\n",
       "      <td>priya</td>\n",
       "      <td>99</td>\n",
       "      <td>90</td>\n",
       "    </tr>\n",
       "    <tr>\n",
       "      <th>2</th>\n",
       "      <td>ren</td>\n",
       "      <td>92</td>\n",
       "      <td>91</td>\n",
       "    </tr>\n",
       "    <tr>\n",
       "      <th>3</th>\n",
       "      <td>thyme</td>\n",
       "      <td>75</td>\n",
       "      <td>86</td>\n",
       "    </tr>\n",
       "    <tr>\n",
       "      <th>4</th>\n",
       "      <td>georia</td>\n",
       "      <td>89</td>\n",
       "      <td>89</td>\n",
       "    </tr>\n",
       "    <tr>\n",
       "      <th>5</th>\n",
       "      <td>amy</td>\n",
       "      <td>96</td>\n",
       "      <td>98</td>\n",
       "    </tr>\n",
       "  </tbody>\n",
       "</table>\n",
       "</div>"
      ],
      "text/plain": [
       "     name  maths  science\n",
       "1   priya     99       90\n",
       "2     ren     92       91\n",
       "3   thyme     75       86\n",
       "4  georia     89       89\n",
       "5     amy     96       98"
      ]
     },
     "execution_count": 85,
     "metadata": {},
     "output_type": "execute_result"
    }
   ],
   "source": [
    "df3.reset_index()\n",
    "df3"
   ]
  },
  {
   "cell_type": "markdown",
   "id": "8435c60c",
   "metadata": {},
   "source": [
    "### del a column"
   ]
  },
  {
   "cell_type": "code",
   "execution_count": 86,
   "id": "faeae55b",
   "metadata": {},
   "outputs": [
    {
     "name": "stdout",
     "output_type": "stream",
     "text": [
      "    name  maths\n",
      "0   aish     87\n",
      "1  priya     99\n",
      "2    ren     92\n",
      "3  thyme     75\n"
     ]
    }
   ],
   "source": [
    "del(df1['science'])\n",
    "print(df1)"
   ]
  },
  {
   "cell_type": "markdown",
   "id": "719012e3",
   "metadata": {},
   "source": [
    "### pop is to assign some value"
   ]
  },
  {
   "cell_type": "code",
   "execution_count": 87,
   "id": "20132897",
   "metadata": {},
   "outputs": [
    {
     "name": "stdout",
     "output_type": "stream",
     "text": [
      "     name  science\n",
      "0  georia       89\n",
      "1     amy       98\n",
      "0    89\n",
      "1    96\n",
      "Name: maths, dtype: int64\n"
     ]
    }
   ],
   "source": [
    "x=df2.pop('maths')\n",
    "print(df2)\n",
    "print(x)"
   ]
  },
  {
   "cell_type": "markdown",
   "id": "dd32770e",
   "metadata": {},
   "source": [
    "### update values in dataframe"
   ]
  },
  {
   "cell_type": "code",
   "execution_count": 88,
   "id": "dacc803b",
   "metadata": {},
   "outputs": [
    {
     "data": {
      "text/html": [
       "<div>\n",
       "<style scoped>\n",
       "    .dataframe tbody tr th:only-of-type {\n",
       "        vertical-align: middle;\n",
       "    }\n",
       "\n",
       "    .dataframe tbody tr th {\n",
       "        vertical-align: top;\n",
       "    }\n",
       "\n",
       "    .dataframe thead th {\n",
       "        text-align: right;\n",
       "    }\n",
       "</style>\n",
       "<table border=\"1\" class=\"dataframe\">\n",
       "  <thead>\n",
       "    <tr style=\"text-align: right;\">\n",
       "      <th></th>\n",
       "      <th>name</th>\n",
       "      <th>age</th>\n",
       "    </tr>\n",
       "  </thead>\n",
       "  <tbody>\n",
       "    <tr>\n",
       "      <th>0</th>\n",
       "      <td>john</td>\n",
       "      <td>28</td>\n",
       "    </tr>\n",
       "    <tr>\n",
       "      <th>1</th>\n",
       "      <td>den</td>\n",
       "      <td>24</td>\n",
       "    </tr>\n",
       "    <tr>\n",
       "      <th>2</th>\n",
       "      <td>ren</td>\n",
       "      <td>26</td>\n",
       "    </tr>\n",
       "    <tr>\n",
       "      <th>3</th>\n",
       "      <td>jim</td>\n",
       "      <td>27</td>\n",
       "    </tr>\n",
       "  </tbody>\n",
       "</table>\n",
       "</div>"
      ],
      "text/plain": [
       "   name  age\n",
       "0  john   28\n",
       "1   den   24\n",
       "2   ren   26\n",
       "3   jim   27"
      ]
     },
     "execution_count": 88,
     "metadata": {},
     "output_type": "execute_result"
    }
   ],
   "source": [
    "l2=[{'name':'john','age':28},{'name':'den','age':24},{'name':'ren','age':26},{'name':'jim','age':27}]\n",
    "df=pd.DataFrame(l2)\n",
    "df"
   ]
  },
  {
   "cell_type": "code",
   "execution_count": 89,
   "id": "3b5fd6ab",
   "metadata": {},
   "outputs": [
    {
     "data": {
      "text/html": [
       "<div>\n",
       "<style scoped>\n",
       "    .dataframe tbody tr th:only-of-type {\n",
       "        vertical-align: middle;\n",
       "    }\n",
       "\n",
       "    .dataframe tbody tr th {\n",
       "        vertical-align: top;\n",
       "    }\n",
       "\n",
       "    .dataframe thead th {\n",
       "        text-align: right;\n",
       "    }\n",
       "</style>\n",
       "<table border=\"1\" class=\"dataframe\">\n",
       "  <thead>\n",
       "    <tr style=\"text-align: right;\">\n",
       "      <th></th>\n",
       "      <th>name</th>\n",
       "      <th>age</th>\n",
       "    </tr>\n",
       "  </thead>\n",
       "  <tbody>\n",
       "    <tr>\n",
       "      <th>0</th>\n",
       "      <td>jack</td>\n",
       "      <td>28</td>\n",
       "    </tr>\n",
       "    <tr>\n",
       "      <th>1</th>\n",
       "      <td>den</td>\n",
       "      <td>24</td>\n",
       "    </tr>\n",
       "    <tr>\n",
       "      <th>2</th>\n",
       "      <td>ren</td>\n",
       "      <td>26</td>\n",
       "    </tr>\n",
       "    <tr>\n",
       "      <th>3</th>\n",
       "      <td>jim</td>\n",
       "      <td>27</td>\n",
       "    </tr>\n",
       "  </tbody>\n",
       "</table>\n",
       "</div>"
      ],
      "text/plain": [
       "   name  age\n",
       "0  jack   28\n",
       "1   den   24\n",
       "2   ren   26\n",
       "3   jim   27"
      ]
     },
     "execution_count": 89,
     "metadata": {},
     "output_type": "execute_result"
    }
   ],
   "source": [
    "df.iloc[0:1,0:1]='jack'\n",
    "df"
   ]
  },
  {
   "cell_type": "markdown",
   "id": "31ea0aeb",
   "metadata": {},
   "source": [
    "### update multiple rows and columns"
   ]
  },
  {
   "cell_type": "code",
   "execution_count": 90,
   "id": "763bbcf4",
   "metadata": {},
   "outputs": [
    {
     "data": {
      "text/html": [
       "<div>\n",
       "<style scoped>\n",
       "    .dataframe tbody tr th:only-of-type {\n",
       "        vertical-align: middle;\n",
       "    }\n",
       "\n",
       "    .dataframe tbody tr th {\n",
       "        vertical-align: top;\n",
       "    }\n",
       "\n",
       "    .dataframe thead th {\n",
       "        text-align: right;\n",
       "    }\n",
       "</style>\n",
       "<table border=\"1\" class=\"dataframe\">\n",
       "  <thead>\n",
       "    <tr style=\"text-align: right;\">\n",
       "      <th></th>\n",
       "      <th>name</th>\n",
       "      <th>age</th>\n",
       "    </tr>\n",
       "  </thead>\n",
       "  <tbody>\n",
       "    <tr>\n",
       "      <th>0</th>\n",
       "      <td>zen</td>\n",
       "      <td>24</td>\n",
       "    </tr>\n",
       "    <tr>\n",
       "      <th>1</th>\n",
       "      <td>zen</td>\n",
       "      <td>24</td>\n",
       "    </tr>\n",
       "    <tr>\n",
       "      <th>2</th>\n",
       "      <td>zen</td>\n",
       "      <td>24</td>\n",
       "    </tr>\n",
       "    <tr>\n",
       "      <th>3</th>\n",
       "      <td>jim</td>\n",
       "      <td>27</td>\n",
       "    </tr>\n",
       "  </tbody>\n",
       "</table>\n",
       "</div>"
      ],
      "text/plain": [
       "  name  age\n",
       "0  zen   24\n",
       "1  zen   24\n",
       "2  zen   24\n",
       "3  jim   27"
      ]
     },
     "execution_count": 90,
     "metadata": {},
     "output_type": "execute_result"
    }
   ],
   "source": [
    "df.iloc[0:3,0:2]=['zen',24]\n",
    "df"
   ]
  },
  {
   "cell_type": "markdown",
   "id": "9426ba3a",
   "metadata": {},
   "source": []
  },
  {
   "cell_type": "markdown",
   "id": "90efc1b1",
   "metadata": {},
   "source": [
    "### joins"
   ]
  },
  {
   "cell_type": "markdown",
   "id": "579646a9",
   "metadata": {},
   "source": [
    "### create table from dictionary"
   ]
  },
  {
   "cell_type": "code",
   "execution_count": 91,
   "id": "cbedc2f3",
   "metadata": {},
   "outputs": [
    {
     "data": {
      "text/html": [
       "<div>\n",
       "<style scoped>\n",
       "    .dataframe tbody tr th:only-of-type {\n",
       "        vertical-align: middle;\n",
       "    }\n",
       "\n",
       "    .dataframe tbody tr th {\n",
       "        vertical-align: top;\n",
       "    }\n",
       "\n",
       "    .dataframe thead th {\n",
       "        text-align: right;\n",
       "    }\n",
       "</style>\n",
       "<table border=\"1\" class=\"dataframe\">\n",
       "  <thead>\n",
       "    <tr style=\"text-align: right;\">\n",
       "      <th></th>\n",
       "      <th>std_id</th>\n",
       "      <th>first_name</th>\n",
       "      <th>last_name</th>\n",
       "    </tr>\n",
       "  </thead>\n",
       "  <tbody>\n",
       "    <tr>\n",
       "      <th>0</th>\n",
       "      <td>AAA-123-2211</td>\n",
       "      <td>swathi</td>\n",
       "      <td>kurra</td>\n",
       "    </tr>\n",
       "    <tr>\n",
       "      <th>1</th>\n",
       "      <td>BBB-543-8765</td>\n",
       "      <td>priya</td>\n",
       "      <td>gorre</td>\n",
       "    </tr>\n",
       "    <tr>\n",
       "      <th>2</th>\n",
       "      <td>CCC-876-9087</td>\n",
       "      <td>aishu</td>\n",
       "      <td>chou</td>\n",
       "    </tr>\n",
       "    <tr>\n",
       "      <th>3</th>\n",
       "      <td>DDD-876-9876</td>\n",
       "      <td>namm</td>\n",
       "      <td>tiwari</td>\n",
       "    </tr>\n",
       "  </tbody>\n",
       "</table>\n",
       "</div>"
      ],
      "text/plain": [
       "         std_id first_name last_name\n",
       "0  AAA-123-2211     swathi     kurra\n",
       "1  BBB-543-8765      priya     gorre\n",
       "2  CCC-876-9087      aishu      chou\n",
       "3  DDD-876-9876       namm    tiwari"
      ]
     },
     "execution_count": 91,
     "metadata": {},
     "output_type": "execute_result"
    }
   ],
   "source": [
    "std_data={'std_id':['AAA-123-2211','BBB-543-8765','CCC-876-9087','DDD-876-9876'],'first_name':['swathi','priya','aishu','namm'],'last_name':['kurra','gorre','chou','tiwari']}\n",
    "std=pd.DataFrame(std_data,columns=['std_id','first_name','last_name'])\n",
    "std"
   ]
  },
  {
   "cell_type": "code",
   "execution_count": null,
   "id": "d755a294",
   "metadata": {},
   "outputs": [],
   "source": []
  },
  {
   "cell_type": "code",
   "execution_count": 92,
   "id": "d83678d6",
   "metadata": {},
   "outputs": [
    {
     "data": {
      "text/html": [
       "<div>\n",
       "<style scoped>\n",
       "    .dataframe tbody tr th:only-of-type {\n",
       "        vertical-align: middle;\n",
       "    }\n",
       "\n",
       "    .dataframe tbody tr th {\n",
       "        vertical-align: top;\n",
       "    }\n",
       "\n",
       "    .dataframe thead th {\n",
       "        text-align: right;\n",
       "    }\n",
       "</style>\n",
       "<table border=\"1\" class=\"dataframe\">\n",
       "  <thead>\n",
       "    <tr style=\"text-align: right;\">\n",
       "      <th></th>\n",
       "      <th>std_id</th>\n",
       "      <th>course</th>\n",
       "      <th>duration</th>\n",
       "    </tr>\n",
       "  </thead>\n",
       "  <tbody>\n",
       "    <tr>\n",
       "      <th>0</th>\n",
       "      <td>AAA-123-2211</td>\n",
       "      <td>ML</td>\n",
       "      <td>3</td>\n",
       "    </tr>\n",
       "    <tr>\n",
       "      <th>1</th>\n",
       "      <td>BBB-543-8765</td>\n",
       "      <td>DS</td>\n",
       "      <td>4</td>\n",
       "    </tr>\n",
       "    <tr>\n",
       "      <th>2</th>\n",
       "      <td>CCC-876-8765</td>\n",
       "      <td>R</td>\n",
       "      <td>5</td>\n",
       "    </tr>\n",
       "    <tr>\n",
       "      <th>3</th>\n",
       "      <td>DDD-876-9876</td>\n",
       "      <td>PYTHON</td>\n",
       "      <td>6</td>\n",
       "    </tr>\n",
       "  </tbody>\n",
       "</table>\n",
       "</div>"
      ],
      "text/plain": [
       "         std_id  course  duration\n",
       "0  AAA-123-2211      ML         3\n",
       "1  BBB-543-8765      DS         4\n",
       "2  CCC-876-8765       R         5\n",
       "3  DDD-876-9876  PYTHON         6"
      ]
     },
     "execution_count": 92,
     "metadata": {},
     "output_type": "execute_result"
    }
   ],
   "source": [
    "std_course={'std_id':['AAA-123-2211','BBB-543-8765','CCC-876-8765','DDD-876-9876'],'course':['ML','DS','R','PYTHON'],'duration':[3,4,5,6]}\n",
    "course=pd.DataFrame(std_course)\n",
    "course"
   ]
  },
  {
   "cell_type": "markdown",
   "id": "205215e0",
   "metadata": {},
   "source": [
    "### concat both files"
   ]
  },
  {
   "cell_type": "code",
   "execution_count": 93,
   "id": "81240680",
   "metadata": {},
   "outputs": [
    {
     "name": "stdout",
     "output_type": "stream",
     "text": [
      "         std_id first_name last_name  course  duration\n",
      "0  AAA-123-2211     swathi     kurra     NaN       NaN\n",
      "1  BBB-543-8765      priya     gorre     NaN       NaN\n",
      "2  CCC-876-9087      aishu      chou     NaN       NaN\n",
      "3  DDD-876-9876       namm    tiwari     NaN       NaN\n",
      "0  AAA-123-2211        NaN       NaN      ML       3.0\n",
      "1  BBB-543-8765        NaN       NaN      DS       4.0\n",
      "2  CCC-876-8765        NaN       NaN       R       5.0\n",
      "3  DDD-876-9876        NaN       NaN  PYTHON       6.0\n"
     ]
    }
   ],
   "source": [
    "print(pd.concat([std,course]))"
   ]
  },
  {
   "cell_type": "markdown",
   "id": "28b26d4d",
   "metadata": {},
   "source": [
    "### axis=0-union"
   ]
  },
  {
   "cell_type": "code",
   "execution_count": 94,
   "id": "96f3302e",
   "metadata": {},
   "outputs": [
    {
     "name": "stdout",
     "output_type": "stream",
     "text": [
      "         std_id first_name last_name  course  duration\n",
      "0  AAA-123-2211     swathi     kurra     NaN       NaN\n",
      "1  BBB-543-8765      priya     gorre     NaN       NaN\n",
      "2  CCC-876-9087      aishu      chou     NaN       NaN\n",
      "3  DDD-876-9876       namm    tiwari     NaN       NaN\n",
      "0  AAA-123-2211        NaN       NaN      ML       3.0\n",
      "1  BBB-543-8765        NaN       NaN      DS       4.0\n",
      "2  CCC-876-8765        NaN       NaN       R       5.0\n",
      "3  DDD-876-9876        NaN       NaN  PYTHON       6.0\n"
     ]
    }
   ],
   "source": [
    "print(pd.concat([std,course],axis=0))"
   ]
  },
  {
   "cell_type": "markdown",
   "id": "61b2ea1d",
   "metadata": {},
   "source": [
    "### index join"
   ]
  },
  {
   "cell_type": "code",
   "execution_count": 95,
   "id": "1d1c1381",
   "metadata": {},
   "outputs": [
    {
     "name": "stdout",
     "output_type": "stream",
     "text": [
      "         std_id first_name last_name        std_id  course  duration\n",
      "0  AAA-123-2211     swathi     kurra  AAA-123-2211      ML         3\n",
      "1  BBB-543-8765      priya     gorre  BBB-543-8765      DS         4\n",
      "2  CCC-876-9087      aishu      chou  CCC-876-8765       R         5\n",
      "3  DDD-876-9876       namm    tiwari  DDD-876-9876  PYTHON         6\n"
     ]
    }
   ],
   "source": [
    "print(pd.concat([std,course],axis=1))"
   ]
  },
  {
   "cell_type": "markdown",
   "id": "5316b9bc",
   "metadata": {},
   "source": [
    "### merge to join two tables"
   ]
  },
  {
   "cell_type": "code",
   "execution_count": 96,
   "id": "e8639ee4",
   "metadata": {},
   "outputs": [
    {
     "data": {
      "text/html": [
       "<div>\n",
       "<style scoped>\n",
       "    .dataframe tbody tr th:only-of-type {\n",
       "        vertical-align: middle;\n",
       "    }\n",
       "\n",
       "    .dataframe tbody tr th {\n",
       "        vertical-align: top;\n",
       "    }\n",
       "\n",
       "    .dataframe thead th {\n",
       "        text-align: right;\n",
       "    }\n",
       "</style>\n",
       "<table border=\"1\" class=\"dataframe\">\n",
       "  <thead>\n",
       "    <tr style=\"text-align: right;\">\n",
       "      <th></th>\n",
       "      <th>std_id</th>\n",
       "      <th>first_name</th>\n",
       "      <th>last_name</th>\n",
       "      <th>course</th>\n",
       "      <th>duration</th>\n",
       "    </tr>\n",
       "  </thead>\n",
       "  <tbody>\n",
       "    <tr>\n",
       "      <th>0</th>\n",
       "      <td>AAA-123-2211</td>\n",
       "      <td>swathi</td>\n",
       "      <td>kurra</td>\n",
       "      <td>ML</td>\n",
       "      <td>3</td>\n",
       "    </tr>\n",
       "    <tr>\n",
       "      <th>1</th>\n",
       "      <td>BBB-543-8765</td>\n",
       "      <td>priya</td>\n",
       "      <td>gorre</td>\n",
       "      <td>DS</td>\n",
       "      <td>4</td>\n",
       "    </tr>\n",
       "    <tr>\n",
       "      <th>2</th>\n",
       "      <td>DDD-876-9876</td>\n",
       "      <td>namm</td>\n",
       "      <td>tiwari</td>\n",
       "      <td>PYTHON</td>\n",
       "      <td>6</td>\n",
       "    </tr>\n",
       "  </tbody>\n",
       "</table>\n",
       "</div>"
      ],
      "text/plain": [
       "         std_id first_name last_name  course  duration\n",
       "0  AAA-123-2211     swathi     kurra      ML         3\n",
       "1  BBB-543-8765      priya     gorre      DS         4\n",
       "2  DDD-876-9876       namm    tiwari  PYTHON         6"
      ]
     },
     "execution_count": 96,
     "metadata": {},
     "output_type": "execute_result"
    }
   ],
   "source": [
    "pd.merge(std,course,left_on='std_id',right_on='std_id',how='inner')"
   ]
  },
  {
   "cell_type": "markdown",
   "id": "a678617c",
   "metadata": {},
   "source": [
    "### left outer"
   ]
  },
  {
   "cell_type": "code",
   "execution_count": 97,
   "id": "6e165f1d",
   "metadata": {},
   "outputs": [
    {
     "data": {
      "text/html": [
       "<div>\n",
       "<style scoped>\n",
       "    .dataframe tbody tr th:only-of-type {\n",
       "        vertical-align: middle;\n",
       "    }\n",
       "\n",
       "    .dataframe tbody tr th {\n",
       "        vertical-align: top;\n",
       "    }\n",
       "\n",
       "    .dataframe thead th {\n",
       "        text-align: right;\n",
       "    }\n",
       "</style>\n",
       "<table border=\"1\" class=\"dataframe\">\n",
       "  <thead>\n",
       "    <tr style=\"text-align: right;\">\n",
       "      <th></th>\n",
       "      <th>std_id</th>\n",
       "      <th>first_name</th>\n",
       "      <th>last_name</th>\n",
       "      <th>course</th>\n",
       "      <th>duration</th>\n",
       "    </tr>\n",
       "  </thead>\n",
       "  <tbody>\n",
       "    <tr>\n",
       "      <th>0</th>\n",
       "      <td>AAA-123-2211</td>\n",
       "      <td>swathi</td>\n",
       "      <td>kurra</td>\n",
       "      <td>ML</td>\n",
       "      <td>3.0</td>\n",
       "    </tr>\n",
       "    <tr>\n",
       "      <th>1</th>\n",
       "      <td>BBB-543-8765</td>\n",
       "      <td>priya</td>\n",
       "      <td>gorre</td>\n",
       "      <td>DS</td>\n",
       "      <td>4.0</td>\n",
       "    </tr>\n",
       "    <tr>\n",
       "      <th>2</th>\n",
       "      <td>CCC-876-9087</td>\n",
       "      <td>aishu</td>\n",
       "      <td>chou</td>\n",
       "      <td>NaN</td>\n",
       "      <td>NaN</td>\n",
       "    </tr>\n",
       "    <tr>\n",
       "      <th>3</th>\n",
       "      <td>DDD-876-9876</td>\n",
       "      <td>namm</td>\n",
       "      <td>tiwari</td>\n",
       "      <td>PYTHON</td>\n",
       "      <td>6.0</td>\n",
       "    </tr>\n",
       "  </tbody>\n",
       "</table>\n",
       "</div>"
      ],
      "text/plain": [
       "         std_id first_name last_name  course  duration\n",
       "0  AAA-123-2211     swathi     kurra      ML       3.0\n",
       "1  BBB-543-8765      priya     gorre      DS       4.0\n",
       "2  CCC-876-9087      aishu      chou     NaN       NaN\n",
       "3  DDD-876-9876       namm    tiwari  PYTHON       6.0"
      ]
     },
     "execution_count": 97,
     "metadata": {},
     "output_type": "execute_result"
    }
   ],
   "source": [
    "pd.merge(std,course,left_on='std_id',right_on='std_id',how='left')"
   ]
  },
  {
   "cell_type": "markdown",
   "id": "6902cae7",
   "metadata": {},
   "source": [
    "### full outer"
   ]
  },
  {
   "cell_type": "code",
   "execution_count": 98,
   "id": "6f82eea8",
   "metadata": {},
   "outputs": [
    {
     "data": {
      "text/html": [
       "<div>\n",
       "<style scoped>\n",
       "    .dataframe tbody tr th:only-of-type {\n",
       "        vertical-align: middle;\n",
       "    }\n",
       "\n",
       "    .dataframe tbody tr th {\n",
       "        vertical-align: top;\n",
       "    }\n",
       "\n",
       "    .dataframe thead th {\n",
       "        text-align: right;\n",
       "    }\n",
       "</style>\n",
       "<table border=\"1\" class=\"dataframe\">\n",
       "  <thead>\n",
       "    <tr style=\"text-align: right;\">\n",
       "      <th></th>\n",
       "      <th>std_id</th>\n",
       "      <th>first_name</th>\n",
       "      <th>last_name</th>\n",
       "      <th>course</th>\n",
       "      <th>duration</th>\n",
       "    </tr>\n",
       "  </thead>\n",
       "  <tbody>\n",
       "    <tr>\n",
       "      <th>0</th>\n",
       "      <td>AAA-123-2211</td>\n",
       "      <td>swathi</td>\n",
       "      <td>kurra</td>\n",
       "      <td>ML</td>\n",
       "      <td>3.0</td>\n",
       "    </tr>\n",
       "    <tr>\n",
       "      <th>1</th>\n",
       "      <td>BBB-543-8765</td>\n",
       "      <td>priya</td>\n",
       "      <td>gorre</td>\n",
       "      <td>DS</td>\n",
       "      <td>4.0</td>\n",
       "    </tr>\n",
       "    <tr>\n",
       "      <th>2</th>\n",
       "      <td>CCC-876-9087</td>\n",
       "      <td>aishu</td>\n",
       "      <td>chou</td>\n",
       "      <td>NaN</td>\n",
       "      <td>NaN</td>\n",
       "    </tr>\n",
       "    <tr>\n",
       "      <th>3</th>\n",
       "      <td>DDD-876-9876</td>\n",
       "      <td>namm</td>\n",
       "      <td>tiwari</td>\n",
       "      <td>PYTHON</td>\n",
       "      <td>6.0</td>\n",
       "    </tr>\n",
       "    <tr>\n",
       "      <th>4</th>\n",
       "      <td>CCC-876-8765</td>\n",
       "      <td>NaN</td>\n",
       "      <td>NaN</td>\n",
       "      <td>R</td>\n",
       "      <td>5.0</td>\n",
       "    </tr>\n",
       "  </tbody>\n",
       "</table>\n",
       "</div>"
      ],
      "text/plain": [
       "         std_id first_name last_name  course  duration\n",
       "0  AAA-123-2211     swathi     kurra      ML       3.0\n",
       "1  BBB-543-8765      priya     gorre      DS       4.0\n",
       "2  CCC-876-9087      aishu      chou     NaN       NaN\n",
       "3  DDD-876-9876       namm    tiwari  PYTHON       6.0\n",
       "4  CCC-876-8765        NaN       NaN       R       5.0"
      ]
     },
     "execution_count": 98,
     "metadata": {},
     "output_type": "execute_result"
    }
   ],
   "source": [
    "pd.merge(std,course,left_on='std_id',right_on='std_id',how='outer')"
   ]
  },
  {
   "cell_type": "markdown",
   "id": "e70c6a4d",
   "metadata": {},
   "source": [
    "### example for join "
   ]
  },
  {
   "cell_type": "code",
   "execution_count": 99,
   "id": "3d1dc67f",
   "metadata": {},
   "outputs": [
    {
     "name": "stdout",
     "output_type": "stream",
     "text": [
      "   id    name std_id\n",
      "0   1    alex   sub6\n",
      "1   2     amy   sub2\n",
      "2   3    alen   sub3\n",
      "3   4   alice   sub4\n",
      "4   5  ayoung   sub5\n",
      "\n",
      "\n",
      "   id   name std_id\n",
      "0   1  billi   sub1\n",
      "1   2  brian   sub2\n",
      "2   3   bran   sub4\n",
      "3   4  bryce   sub5\n",
      "4   5  betty   sub6\n"
     ]
    }
   ],
   "source": [
    "left=pd.DataFrame({'id':[1,2,3,4,5],'name':['alex','amy','alen','alice','ayoung'],'std_id':['sub6','sub2','sub3','sub4','sub5']})\n",
    "right=pd.DataFrame({'id':[1,2,3,4,5],'name':['billi','brian','bran','bryce','betty'],'std_id':['sub1','sub2','sub4','sub5','sub6']})\n",
    "print(left)\n",
    "print('\\n')\n",
    "print(right)"
   ]
  },
  {
   "cell_type": "markdown",
   "id": "d9f01f71",
   "metadata": {},
   "source": [
    "### join with two columns"
   ]
  },
  {
   "cell_type": "code",
   "execution_count": 100,
   "id": "05419100",
   "metadata": {},
   "outputs": [
    {
     "name": "stdout",
     "output_type": "stream",
     "text": [
      "   id name_x sub_id name_y\n",
      "0   1   alex   sub1  billi\n",
      "1   2    amy   sub2  brian\n",
      "2   3   alen   sub3   bran\n"
     ]
    }
   ],
   "source": [
    "left=pd.DataFrame({'id':[1,2,3,4,5],'name':['alex','amy','alen','alice','ayoung'],'sub_id':['sub1','sub2','sub3','sub4','sub5']})\n",
    "right=pd.DataFrame({'id':[1,2,3,4,5],'name':['billi','brian','bran','bryce','betty'],'sub_id':['sub1','sub2','sub3','sub5','sub4']})\n",
    "print(pd.merge(left,right,on=['id','sub_id']))"
   ]
  },
  {
   "cell_type": "markdown",
   "id": "4466600b",
   "metadata": {},
   "source": [
    "### left join "
   ]
  },
  {
   "cell_type": "code",
   "execution_count": 101,
   "id": "19c7516b",
   "metadata": {},
   "outputs": [
    {
     "name": "stdout",
     "output_type": "stream",
     "text": [
      "   id  name_x sub_id name_y\n",
      "0   1    alex   sub6    NaN\n",
      "1   2     amy   sub2  brian\n",
      "2   3    alen   sub3    NaN\n",
      "3   4   alice   sub4  bryce\n",
      "4   5  ayoung   sub5  betty\n"
     ]
    }
   ],
   "source": [
    "left=pd.DataFrame({'id':[1,2,3,4,5],'name':['alex','amy','alen','alice','ayoung'],'sub_id':['sub6','sub2','sub3','sub4','sub5']})\n",
    "right=pd.DataFrame({'id':[1,2,3,4,5],'name':['billi','brian','bran','bryce','betty'],'sub_id':['sub1','sub2','sub6','sub4','sub5']})\n",
    "print(pd.merge(left,right,on=['id','sub_id'],how = 'left'))"
   ]
  },
  {
   "cell_type": "code",
   "execution_count": 102,
   "id": "db5e9a6a",
   "metadata": {},
   "outputs": [
    {
     "name": "stdout",
     "output_type": "stream",
     "text": [
      "   id  name_x sub_id name_y\n",
      "0   1     NaN   sub1  billi\n",
      "1   2     amy   sub2  brian\n",
      "2   3     NaN   sub6   bran\n",
      "3   4   alice   sub4  bryce\n",
      "4   5  ayoung   sub5  betty\n"
     ]
    }
   ],
   "source": [
    "print (pd.merge(left,right,on=['id','sub_id'], how = 'right'))"
   ]
  },
  {
   "cell_type": "code",
   "execution_count": 103,
   "id": "500285a4",
   "metadata": {},
   "outputs": [
    {
     "name": "stdout",
     "output_type": "stream",
     "text": [
      "   id  name_x sub_id name_y\n",
      "0   1    alex   sub6    NaN\n",
      "1   2     amy   sub2  brian\n",
      "2   3    alen   sub3    NaN\n",
      "3   4   alice   sub4  bryce\n",
      "4   5  ayoung   sub5  betty\n",
      "5   1     NaN   sub1  billi\n",
      "6   3     NaN   sub6   bran\n"
     ]
    }
   ],
   "source": [
    "print (pd.merge(left,right,on=['id','sub_id'], how = 'outer'))"
   ]
  },
  {
   "cell_type": "code",
   "execution_count": null,
   "id": "8aac5251",
   "metadata": {},
   "outputs": [],
   "source": []
  },
  {
   "cell_type": "markdown",
   "id": "0d3b7e88",
   "metadata": {},
   "source": [
    "### import libraries"
   ]
  },
  {
   "cell_type": "code",
   "execution_count": 104,
   "id": "09c65126",
   "metadata": {},
   "outputs": [],
   "source": [
    "import numpy as np \n",
    "import pandas as pd \n",
    "import matplotlib.pyplot as plt\n",
    "import seaborn as sns\n",
    "import os"
   ]
  },
  {
   "cell_type": "code",
   "execution_count": 105,
   "id": "07503b51",
   "metadata": {},
   "outputs": [
    {
     "data": {
      "text/html": [
       "<div>\n",
       "<style scoped>\n",
       "    .dataframe tbody tr th:only-of-type {\n",
       "        vertical-align: middle;\n",
       "    }\n",
       "\n",
       "    .dataframe tbody tr th {\n",
       "        vertical-align: top;\n",
       "    }\n",
       "\n",
       "    .dataframe thead th {\n",
       "        text-align: right;\n",
       "    }\n",
       "</style>\n",
       "<table border=\"1\" class=\"dataframe\">\n",
       "  <thead>\n",
       "    <tr style=\"text-align: right;\">\n",
       "      <th></th>\n",
       "      <th>id</th>\n",
       "      <th>name</th>\n",
       "      <th>sub_id</th>\n",
       "    </tr>\n",
       "  </thead>\n",
       "  <tbody>\n",
       "    <tr>\n",
       "      <th>0</th>\n",
       "      <td>1</td>\n",
       "      <td>billi</td>\n",
       "      <td>sub1</td>\n",
       "    </tr>\n",
       "    <tr>\n",
       "      <th>1</th>\n",
       "      <td>2</td>\n",
       "      <td>brian</td>\n",
       "      <td>sub2</td>\n",
       "    </tr>\n",
       "    <tr>\n",
       "      <th>2</th>\n",
       "      <td>3</td>\n",
       "      <td>bran</td>\n",
       "      <td>sub6</td>\n",
       "    </tr>\n",
       "    <tr>\n",
       "      <th>3</th>\n",
       "      <td>4</td>\n",
       "      <td>bryce</td>\n",
       "      <td>sub4</td>\n",
       "    </tr>\n",
       "    <tr>\n",
       "      <th>4</th>\n",
       "      <td>5</td>\n",
       "      <td>betty</td>\n",
       "      <td>sub5</td>\n",
       "    </tr>\n",
       "  </tbody>\n",
       "</table>\n",
       "</div>"
      ],
      "text/plain": [
       "   id   name sub_id\n",
       "0   1  billi   sub1\n",
       "1   2  brian   sub2\n",
       "2   3   bran   sub6\n",
       "3   4  bryce   sub4\n",
       "4   5  betty   sub5"
      ]
     },
     "execution_count": 105,
     "metadata": {},
     "output_type": "execute_result"
    }
   ],
   "source": [
    "right"
   ]
  },
  {
   "cell_type": "code",
   "execution_count": 106,
   "id": "20fe3cf9",
   "metadata": {},
   "outputs": [
    {
     "ename": "FileNotFoundError",
     "evalue": "[Errno 2] No such file or directory: 'C:\\\\Users\\\\AISHWARYA\\\\Downloads\\\\prices.csv'",
     "output_type": "error",
     "traceback": [
      "\u001b[1;31m---------------------------------------------------------------------------\u001b[0m",
      "\u001b[1;31mFileNotFoundError\u001b[0m                         Traceback (most recent call last)",
      "Cell \u001b[1;32mIn[106], line 1\u001b[0m\n\u001b[1;32m----> 1\u001b[0m pd\u001b[38;5;241m.\u001b[39mread_csv(\u001b[38;5;124m'\u001b[39m\u001b[38;5;124mC:\u001b[39m\u001b[38;5;130;01m\\\\\u001b[39;00m\u001b[38;5;124mUsers\u001b[39m\u001b[38;5;130;01m\\\\\u001b[39;00m\u001b[38;5;124mAISHWARYA\u001b[39m\u001b[38;5;130;01m\\\\\u001b[39;00m\u001b[38;5;124mDownloads\u001b[39m\u001b[38;5;130;01m\\\\\u001b[39;00m\u001b[38;5;124mprices.csv\u001b[39m\u001b[38;5;124m'\u001b[39m)\n",
      "File \u001b[1;32m~\\anaconda3\\Lib\\site-packages\\pandas\\io\\parsers\\readers.py:912\u001b[0m, in \u001b[0;36mread_csv\u001b[1;34m(filepath_or_buffer, sep, delimiter, header, names, index_col, usecols, dtype, engine, converters, true_values, false_values, skipinitialspace, skiprows, skipfooter, nrows, na_values, keep_default_na, na_filter, verbose, skip_blank_lines, parse_dates, infer_datetime_format, keep_date_col, date_parser, date_format, dayfirst, cache_dates, iterator, chunksize, compression, thousands, decimal, lineterminator, quotechar, quoting, doublequote, escapechar, comment, encoding, encoding_errors, dialect, on_bad_lines, delim_whitespace, low_memory, memory_map, float_precision, storage_options, dtype_backend)\u001b[0m\n\u001b[0;32m    899\u001b[0m kwds_defaults \u001b[38;5;241m=\u001b[39m _refine_defaults_read(\n\u001b[0;32m    900\u001b[0m     dialect,\n\u001b[0;32m    901\u001b[0m     delimiter,\n\u001b[1;32m   (...)\u001b[0m\n\u001b[0;32m    908\u001b[0m     dtype_backend\u001b[38;5;241m=\u001b[39mdtype_backend,\n\u001b[0;32m    909\u001b[0m )\n\u001b[0;32m    910\u001b[0m kwds\u001b[38;5;241m.\u001b[39mupdate(kwds_defaults)\n\u001b[1;32m--> 912\u001b[0m \u001b[38;5;28;01mreturn\u001b[39;00m _read(filepath_or_buffer, kwds)\n",
      "File \u001b[1;32m~\\anaconda3\\Lib\\site-packages\\pandas\\io\\parsers\\readers.py:577\u001b[0m, in \u001b[0;36m_read\u001b[1;34m(filepath_or_buffer, kwds)\u001b[0m\n\u001b[0;32m    574\u001b[0m _validate_names(kwds\u001b[38;5;241m.\u001b[39mget(\u001b[38;5;124m\"\u001b[39m\u001b[38;5;124mnames\u001b[39m\u001b[38;5;124m\"\u001b[39m, \u001b[38;5;28;01mNone\u001b[39;00m))\n\u001b[0;32m    576\u001b[0m \u001b[38;5;66;03m# Create the parser.\u001b[39;00m\n\u001b[1;32m--> 577\u001b[0m parser \u001b[38;5;241m=\u001b[39m TextFileReader(filepath_or_buffer, \u001b[38;5;241m*\u001b[39m\u001b[38;5;241m*\u001b[39mkwds)\n\u001b[0;32m    579\u001b[0m \u001b[38;5;28;01mif\u001b[39;00m chunksize \u001b[38;5;129;01mor\u001b[39;00m iterator:\n\u001b[0;32m    580\u001b[0m     \u001b[38;5;28;01mreturn\u001b[39;00m parser\n",
      "File \u001b[1;32m~\\anaconda3\\Lib\\site-packages\\pandas\\io\\parsers\\readers.py:1407\u001b[0m, in \u001b[0;36mTextFileReader.__init__\u001b[1;34m(self, f, engine, **kwds)\u001b[0m\n\u001b[0;32m   1404\u001b[0m     \u001b[38;5;28mself\u001b[39m\u001b[38;5;241m.\u001b[39moptions[\u001b[38;5;124m\"\u001b[39m\u001b[38;5;124mhas_index_names\u001b[39m\u001b[38;5;124m\"\u001b[39m] \u001b[38;5;241m=\u001b[39m kwds[\u001b[38;5;124m\"\u001b[39m\u001b[38;5;124mhas_index_names\u001b[39m\u001b[38;5;124m\"\u001b[39m]\n\u001b[0;32m   1406\u001b[0m \u001b[38;5;28mself\u001b[39m\u001b[38;5;241m.\u001b[39mhandles: IOHandles \u001b[38;5;241m|\u001b[39m \u001b[38;5;28;01mNone\u001b[39;00m \u001b[38;5;241m=\u001b[39m \u001b[38;5;28;01mNone\u001b[39;00m\n\u001b[1;32m-> 1407\u001b[0m \u001b[38;5;28mself\u001b[39m\u001b[38;5;241m.\u001b[39m_engine \u001b[38;5;241m=\u001b[39m \u001b[38;5;28mself\u001b[39m\u001b[38;5;241m.\u001b[39m_make_engine(f, \u001b[38;5;28mself\u001b[39m\u001b[38;5;241m.\u001b[39mengine)\n",
      "File \u001b[1;32m~\\anaconda3\\Lib\\site-packages\\pandas\\io\\parsers\\readers.py:1661\u001b[0m, in \u001b[0;36mTextFileReader._make_engine\u001b[1;34m(self, f, engine)\u001b[0m\n\u001b[0;32m   1659\u001b[0m     \u001b[38;5;28;01mif\u001b[39;00m \u001b[38;5;124m\"\u001b[39m\u001b[38;5;124mb\u001b[39m\u001b[38;5;124m\"\u001b[39m \u001b[38;5;129;01mnot\u001b[39;00m \u001b[38;5;129;01min\u001b[39;00m mode:\n\u001b[0;32m   1660\u001b[0m         mode \u001b[38;5;241m+\u001b[39m\u001b[38;5;241m=\u001b[39m \u001b[38;5;124m\"\u001b[39m\u001b[38;5;124mb\u001b[39m\u001b[38;5;124m\"\u001b[39m\n\u001b[1;32m-> 1661\u001b[0m \u001b[38;5;28mself\u001b[39m\u001b[38;5;241m.\u001b[39mhandles \u001b[38;5;241m=\u001b[39m get_handle(\n\u001b[0;32m   1662\u001b[0m     f,\n\u001b[0;32m   1663\u001b[0m     mode,\n\u001b[0;32m   1664\u001b[0m     encoding\u001b[38;5;241m=\u001b[39m\u001b[38;5;28mself\u001b[39m\u001b[38;5;241m.\u001b[39moptions\u001b[38;5;241m.\u001b[39mget(\u001b[38;5;124m\"\u001b[39m\u001b[38;5;124mencoding\u001b[39m\u001b[38;5;124m\"\u001b[39m, \u001b[38;5;28;01mNone\u001b[39;00m),\n\u001b[0;32m   1665\u001b[0m     compression\u001b[38;5;241m=\u001b[39m\u001b[38;5;28mself\u001b[39m\u001b[38;5;241m.\u001b[39moptions\u001b[38;5;241m.\u001b[39mget(\u001b[38;5;124m\"\u001b[39m\u001b[38;5;124mcompression\u001b[39m\u001b[38;5;124m\"\u001b[39m, \u001b[38;5;28;01mNone\u001b[39;00m),\n\u001b[0;32m   1666\u001b[0m     memory_map\u001b[38;5;241m=\u001b[39m\u001b[38;5;28mself\u001b[39m\u001b[38;5;241m.\u001b[39moptions\u001b[38;5;241m.\u001b[39mget(\u001b[38;5;124m\"\u001b[39m\u001b[38;5;124mmemory_map\u001b[39m\u001b[38;5;124m\"\u001b[39m, \u001b[38;5;28;01mFalse\u001b[39;00m),\n\u001b[0;32m   1667\u001b[0m     is_text\u001b[38;5;241m=\u001b[39mis_text,\n\u001b[0;32m   1668\u001b[0m     errors\u001b[38;5;241m=\u001b[39m\u001b[38;5;28mself\u001b[39m\u001b[38;5;241m.\u001b[39moptions\u001b[38;5;241m.\u001b[39mget(\u001b[38;5;124m\"\u001b[39m\u001b[38;5;124mencoding_errors\u001b[39m\u001b[38;5;124m\"\u001b[39m, \u001b[38;5;124m\"\u001b[39m\u001b[38;5;124mstrict\u001b[39m\u001b[38;5;124m\"\u001b[39m),\n\u001b[0;32m   1669\u001b[0m     storage_options\u001b[38;5;241m=\u001b[39m\u001b[38;5;28mself\u001b[39m\u001b[38;5;241m.\u001b[39moptions\u001b[38;5;241m.\u001b[39mget(\u001b[38;5;124m\"\u001b[39m\u001b[38;5;124mstorage_options\u001b[39m\u001b[38;5;124m\"\u001b[39m, \u001b[38;5;28;01mNone\u001b[39;00m),\n\u001b[0;32m   1670\u001b[0m )\n\u001b[0;32m   1671\u001b[0m \u001b[38;5;28;01massert\u001b[39;00m \u001b[38;5;28mself\u001b[39m\u001b[38;5;241m.\u001b[39mhandles \u001b[38;5;129;01mis\u001b[39;00m \u001b[38;5;129;01mnot\u001b[39;00m \u001b[38;5;28;01mNone\u001b[39;00m\n\u001b[0;32m   1672\u001b[0m f \u001b[38;5;241m=\u001b[39m \u001b[38;5;28mself\u001b[39m\u001b[38;5;241m.\u001b[39mhandles\u001b[38;5;241m.\u001b[39mhandle\n",
      "File \u001b[1;32m~\\anaconda3\\Lib\\site-packages\\pandas\\io\\common.py:859\u001b[0m, in \u001b[0;36mget_handle\u001b[1;34m(path_or_buf, mode, encoding, compression, memory_map, is_text, errors, storage_options)\u001b[0m\n\u001b[0;32m    854\u001b[0m \u001b[38;5;28;01melif\u001b[39;00m \u001b[38;5;28misinstance\u001b[39m(handle, \u001b[38;5;28mstr\u001b[39m):\n\u001b[0;32m    855\u001b[0m     \u001b[38;5;66;03m# Check whether the filename is to be opened in binary mode.\u001b[39;00m\n\u001b[0;32m    856\u001b[0m     \u001b[38;5;66;03m# Binary mode does not support 'encoding' and 'newline'.\u001b[39;00m\n\u001b[0;32m    857\u001b[0m     \u001b[38;5;28;01mif\u001b[39;00m ioargs\u001b[38;5;241m.\u001b[39mencoding \u001b[38;5;129;01mand\u001b[39;00m \u001b[38;5;124m\"\u001b[39m\u001b[38;5;124mb\u001b[39m\u001b[38;5;124m\"\u001b[39m \u001b[38;5;129;01mnot\u001b[39;00m \u001b[38;5;129;01min\u001b[39;00m ioargs\u001b[38;5;241m.\u001b[39mmode:\n\u001b[0;32m    858\u001b[0m         \u001b[38;5;66;03m# Encoding\u001b[39;00m\n\u001b[1;32m--> 859\u001b[0m         handle \u001b[38;5;241m=\u001b[39m \u001b[38;5;28mopen\u001b[39m(\n\u001b[0;32m    860\u001b[0m             handle,\n\u001b[0;32m    861\u001b[0m             ioargs\u001b[38;5;241m.\u001b[39mmode,\n\u001b[0;32m    862\u001b[0m             encoding\u001b[38;5;241m=\u001b[39mioargs\u001b[38;5;241m.\u001b[39mencoding,\n\u001b[0;32m    863\u001b[0m             errors\u001b[38;5;241m=\u001b[39merrors,\n\u001b[0;32m    864\u001b[0m             newline\u001b[38;5;241m=\u001b[39m\u001b[38;5;124m\"\u001b[39m\u001b[38;5;124m\"\u001b[39m,\n\u001b[0;32m    865\u001b[0m         )\n\u001b[0;32m    866\u001b[0m     \u001b[38;5;28;01melse\u001b[39;00m:\n\u001b[0;32m    867\u001b[0m         \u001b[38;5;66;03m# Binary mode\u001b[39;00m\n\u001b[0;32m    868\u001b[0m         handle \u001b[38;5;241m=\u001b[39m \u001b[38;5;28mopen\u001b[39m(handle, ioargs\u001b[38;5;241m.\u001b[39mmode)\n",
      "\u001b[1;31mFileNotFoundError\u001b[0m: [Errno 2] No such file or directory: 'C:\\\\Users\\\\AISHWARYA\\\\Downloads\\\\prices.csv'"
     ]
    }
   ],
   "source": [
    "pd.read_csv('C:\\\\Users\\\\AISHWARYA\\\\Downloads\\\\prices.csv')"
   ]
  },
  {
   "cell_type": "code",
   "execution_count": null,
   "id": "ed190eb5",
   "metadata": {},
   "outputs": [],
   "source": [
    "import os\n",
    "os.getcwd()\n",
    "#cwdd=current working directory"
   ]
  },
  {
   "cell_type": "code",
   "execution_count": null,
   "id": "9fd8c1c4",
   "metadata": {},
   "outputs": [],
   "source": [
    "os.chdir('C:\\\\Users\\\\AISHWARYA\\\\Downloads\\\\')"
   ]
  },
  {
   "cell_type": "code",
   "execution_count": null,
   "id": "fffa65b7",
   "metadata": {},
   "outputs": [],
   "source": [
    "os.getcwd()"
   ]
  },
  {
   "cell_type": "code",
   "execution_count": null,
   "id": "f64729dc",
   "metadata": {},
   "outputs": [],
   "source": [
    "stats=pd.read_csv('prices.csv')\n",
    "stats"
   ]
  },
  {
   "cell_type": "code",
   "execution_count": null,
   "id": "1652d218",
   "metadata": {},
   "outputs": [],
   "source": [
    "tips=pd.read_csv('tips.csv')\n",
    "tips"
   ]
  },
  {
   "cell_type": "code",
   "execution_count": null,
   "id": "ae91d522",
   "metadata": {},
   "outputs": [],
   "source": [
    "stats.head()"
   ]
  },
  {
   "cell_type": "code",
   "execution_count": null,
   "id": "11c2d069",
   "metadata": {},
   "outputs": [],
   "source": [
    "stats.tail()"
   ]
  },
  {
   "cell_type": "code",
   "execution_count": null,
   "id": "5f75284a",
   "metadata": {},
   "outputs": [],
   "source": [
    "stats.head(10)"
   ]
  },
  {
   "cell_type": "code",
   "execution_count": null,
   "id": "1b61ad0b",
   "metadata": {},
   "outputs": [],
   "source": [
    "print(len(stats))"
   ]
  },
  {
   "cell_type": "code",
   "execution_count": null,
   "id": "638eec2d",
   "metadata": {},
   "outputs": [],
   "source": [
    "stats.shape"
   ]
  },
  {
   "cell_type": "code",
   "execution_count": null,
   "id": "6a2d3b07",
   "metadata": {},
   "outputs": [],
   "source": [
    "len(stats.columns)"
   ]
  },
  {
   "cell_type": "code",
   "execution_count": null,
   "id": "be739686",
   "metadata": {},
   "outputs": [],
   "source": [
    "#information about every column\n",
    "stats.info()"
   ]
  },
  {
   "cell_type": "code",
   "execution_count": null,
   "id": "3959cffd",
   "metadata": {},
   "outputs": [],
   "source": [
    "stats.describe()"
   ]
  },
  {
   "cell_type": "code",
   "execution_count": null,
   "id": "128869db",
   "metadata": {},
   "outputs": [],
   "source": []
  }
 ],
 "metadata": {
  "kernelspec": {
   "display_name": "Python 3 (ipykernel)",
   "language": "python",
   "name": "python3"
  },
  "language_info": {
   "codemirror_mode": {
    "name": "ipython",
    "version": 3
   },
   "file_extension": ".py",
   "mimetype": "text/x-python",
   "name": "python",
   "nbconvert_exporter": "python",
   "pygments_lexer": "ipython3",
   "version": "3.11.7"
  }
 },
 "nbformat": 4,
 "nbformat_minor": 5
}
