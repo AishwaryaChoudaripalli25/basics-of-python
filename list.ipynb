{
 "cells": [
  {
   "cell_type": "markdown",
   "id": "8dbd6dc2",
   "metadata": {},
   "source": [
    "##list"
   ]
  },
  {
   "cell_type": "markdown",
   "id": "2e4c46a7",
   "metadata": {},
   "source": [
    "slicing"
   ]
  },
  {
   "cell_type": "code",
   "execution_count": 121,
   "id": "d1b0da09",
   "metadata": {},
   "outputs": [
    {
     "name": "stdout",
     "output_type": "stream",
     "text": [
      "20\n",
      "[]\n",
      "[50, 60]\n",
      "[30, 40, 50]\n",
      "[50, 60, 70]\n",
      "[10, 20, 30, 40]\n"
     ]
    }
   ],
   "source": [
    "list1=[10,20,30,40,50,60,70]\n",
    "print(list1[1])\n",
    "print(list1[-2:2])\n",
    "print(list1[4:-1])\n",
    "print(list1[2:-2])\n",
    "print(list1[-3:])\n",
    "print(list1[:-3])"
   ]
  },
  {
   "cell_type": "markdown",
   "id": "2f2687a0",
   "metadata": {},
   "source": [
    "concatenation"
   ]
  },
  {
   "cell_type": "code",
   "execution_count": 122,
   "id": "77f45443",
   "metadata": {},
   "outputs": [
    {
     "name": "stdout",
     "output_type": "stream",
     "text": [
      "[10, 20, 30, 40, 50, 60, 70, 100, 110, 120, 50, 51, 52]\n"
     ]
    }
   ],
   "source": [
    "list2=[100,110,120]\n",
    "print(list1+list2+[50,51,52])"
   ]
  },
  {
   "cell_type": "markdown",
   "id": "655001d4",
   "metadata": {},
   "source": [
    "repeat"
   ]
  },
  {
   "cell_type": "code",
   "execution_count": 123,
   "id": "a25efb83",
   "metadata": {},
   "outputs": [
    {
     "name": "stdout",
     "output_type": "stream",
     "text": [
      "[100, 110, 120, 100, 110, 120, 100, 110, 120]\n"
     ]
    }
   ],
   "source": [
    "print(list2*3)"
   ]
  },
  {
   "cell_type": "markdown",
   "id": "8ac9a9d7",
   "metadata": {},
   "source": [
    "membership"
   ]
  },
  {
   "cell_type": "code",
   "execution_count": 124,
   "id": "07ad7ea7",
   "metadata": {
    "scrolled": true
   },
   "outputs": [
    {
     "name": "stdout",
     "output_type": "stream",
     "text": [
      "True\n"
     ]
    }
   ],
   "source": [
    "print(100 in list2)"
   ]
  },
  {
   "cell_type": "markdown",
   "id": "33dab3e7",
   "metadata": {},
   "source": [
    "delete from list(del,remove,pop)"
   ]
  },
  {
   "cell_type": "code",
   "execution_count": 125,
   "id": "fab4df7f",
   "metadata": {},
   "outputs": [
    {
     "name": "stdout",
     "output_type": "stream",
     "text": [
      "['john', 'rick', 'jim']\n"
     ]
    }
   ],
   "source": [
    "list1=['john','sam','rick','jim']\n",
    "del(list1[1])\n",
    "print(list1)"
   ]
  },
  {
   "cell_type": "code",
   "execution_count": 126,
   "id": "08fa29c1",
   "metadata": {},
   "outputs": [
    {
     "name": "stdout",
     "output_type": "stream",
     "text": [
      "[]\n"
     ]
    }
   ],
   "source": [
    "list1=['john','sam','rick','jim']\n",
    "del(list1[0:])\n",
    "print(list1)"
   ]
  },
  {
   "cell_type": "code",
   "execution_count": 127,
   "id": "3631c0aa",
   "metadata": {},
   "outputs": [
    {
     "name": "stdout",
     "output_type": "stream",
     "text": [
      "Rick\n",
      "['John', 'Sam', 'Jim']\n"
     ]
    }
   ],
   "source": [
    "list1 = ['John','Sam','Rick', 'Jim']\n",
    "a = list1.pop(2)\n",
    "print (a)\n",
    "print (list1)    "
   ]
  },
  {
   "cell_type": "code",
   "execution_count": 128,
   "id": "8f08fda1",
   "metadata": {
    "scrolled": true
   },
   "outputs": [
    {
     "name": "stdout",
     "output_type": "stream",
     "text": [
      "None\n",
      "['Sam', 'Rick', 'Jim']\n"
     ]
    }
   ],
   "source": [
    "list1 = ['John','Sam','Rick', 'Jim']\n",
    "a = list1.remove ('John')\n",
    "print (a)\n",
    "print (list1)      "
   ]
  },
  {
   "cell_type": "code",
   "execution_count": 129,
   "id": "5075d732",
   "metadata": {},
   "outputs": [
    {
     "name": "stdout",
     "output_type": "stream",
     "text": [
      "[1, 2, 3, 4, 5, 6, 7]\n"
     ]
    }
   ],
   "source": [
    "list1 = [1,2,3,4,5,6]\n",
    "list1.append (7)\n",
    "print (list1)"
   ]
  },
  {
   "cell_type": "code",
   "execution_count": 130,
   "id": "b74c8110",
   "metadata": {},
   "outputs": [
    {
     "name": "stdout",
     "output_type": "stream",
     "text": [
      "[2, 4, 6, 8, 10]\n"
     ]
    }
   ],
   "source": [
    "list1 = []\n",
    "for x in [1,2,3,4,5]:\n",
    "        list1.append (x * 2)\n",
    "print (list1)"
   ]
  },
  {
   "cell_type": "code",
   "execution_count": 131,
   "id": "ba6e9804",
   "metadata": {},
   "outputs": [
    {
     "name": "stdout",
     "output_type": "stream",
     "text": [
      "[2, 4, 6, 8, 10]\n"
     ]
    }
   ],
   "source": [
    "list1 = [x * 2 for x in [1,2,3,4,5]]\n",
    "print (list1)"
   ]
  },
  {
   "cell_type": "markdown",
   "id": "68b11196",
   "metadata": {},
   "source": [
    "Append, Insert, Extend"
   ]
  },
  {
   "cell_type": "code",
   "execution_count": 132,
   "id": "9b18dc5c",
   "metadata": {},
   "outputs": [
    {
     "name": "stdout",
     "output_type": "stream",
     "text": [
      "[1, 2, ['P', 'Q', 'R'], 'M', 3, 4, 5, 6, 15, 'A', 'B', 'C']\n"
     ]
    }
   ],
   "source": [
    "list1 = [1,2,3,4,5,6]\n",
    "list1.append (15)\n",
    "list1.extend (['A','B','C'])\n",
    "list1.insert (2, 'M')\n",
    "list1.insert (2, ['P','Q','R'])\n",
    "print (list1)"
   ]
  },
  {
   "cell_type": "markdown",
   "id": "ee452dc7",
   "metadata": {},
   "source": [
    "sort "
   ]
  },
  {
   "cell_type": "code",
   "execution_count": 133,
   "id": "bcbab038",
   "metadata": {},
   "outputs": [
    {
     "name": "stdout",
     "output_type": "stream",
     "text": [
      "['Rick', 'Jim', 'Mark', 'Jack', 'Ken']\n",
      "['Jack', 'Jim', 'Ken', 'Mark', 'Rick']\n"
     ]
    }
   ],
   "source": [
    "list1 = ['Rick','Jim','Mark','Jack','Ken']\n",
    "list2 = sorted (list1)\n",
    "print (list1)\n",
    "print (list2)"
   ]
  },
  {
   "cell_type": "code",
   "execution_count": 134,
   "id": "76c438fc",
   "metadata": {},
   "outputs": [
    {
     "name": "stdout",
     "output_type": "stream",
     "text": [
      "['Rick', 'Jim', 'Mark', '10', '50', '60', 'Jack', 'jack', 'Ken']\n",
      "['10', '50', '60', 'Jack', 'Jim', 'Ken', 'Mark', 'Rick', 'jack']\n"
     ]
    }
   ],
   "source": [
    "list1 = ['Rick','Jim','Mark','10','50','60','Jack','jack','Ken']\n",
    "list2 = sorted (list1)\n",
    "print (list1)\n",
    "print (list2)"
   ]
  },
  {
   "cell_type": "markdown",
   "id": "e17a06e2",
   "metadata": {},
   "source": [
    "sorted"
   ]
  },
  {
   "cell_type": "code",
   "execution_count": 135,
   "id": "eb860343",
   "metadata": {},
   "outputs": [
    {
     "name": "stdout",
     "output_type": "stream",
     "text": [
      "[10, 10, 13, 20, 24, 44, 80]\n",
      "before sorting=\n",
      "[10, 20, 80, 44, 24, 13, 10]\n",
      "after sorting=\n",
      "[10, 10, 13, 20, 24, 44, 80]\n"
     ]
    }
   ],
   "source": [
    "x=[10,20,80,44,24,13,10]\n",
    "print(sorted(x))#sorted order\n",
    "sortx=sorted(x)\n",
    "print('before sorting=')\n",
    "print(x)#no change to orginal list \n",
    "print('after sorting=')\n",
    "print(sortx)"
   ]
  },
  {
   "cell_type": "markdown",
   "id": "73f69492",
   "metadata": {},
   "source": [
    "sort"
   ]
  },
  {
   "cell_type": "code",
   "execution_count": 136,
   "id": "94befd97",
   "metadata": {},
   "outputs": [
    {
     "name": "stdout",
     "output_type": "stream",
     "text": [
      "None\n",
      "[2, 4, 9, 11, 20, 30, 33, 44]\n",
      "None\n"
     ]
    }
   ],
   "source": [
    "x=[30,20,11,2,33,44,4,9]\n",
    "print(x.sort())#return none\n",
    "sortx=x.sort()#not able to assign\n",
    "print(x)#x sorted \n",
    "print(sortx)"
   ]
  },
  {
   "cell_type": "markdown",
   "id": "125d9c0e",
   "metadata": {},
   "source": [
    "print in reverse"
   ]
  },
  {
   "cell_type": "code",
   "execution_count": 137,
   "id": "e8d39340",
   "metadata": {},
   "outputs": [
    {
     "name": "stdout",
     "output_type": "stream",
     "text": [
      "[44, 33, 30, 20, 11, 9, 4, 2]\n",
      "[20, 11, 9, 4]\n"
     ]
    }
   ],
   "source": [
    "print(x[::-1])\n",
    "print(x[4:0:-1])"
   ]
  },
  {
   "cell_type": "markdown",
   "id": "12318081",
   "metadata": {},
   "source": [
    "#list summary"
   ]
  },
  {
   "cell_type": "markdown",
   "id": "208f2f3a",
   "metadata": {},
   "source": [
    "making a list:"
   ]
  },
  {
   "cell_type": "code",
   "execution_count": 138,
   "id": "4efa60c5",
   "metadata": {},
   "outputs": [],
   "source": [
    "colors=['red','blue','green','black','white']\n",
    "#getting the first element\n",
    "first_col=colors[0]\n",
    "#getting the second element\n",
    "second_col=colors[1]\n",
    "#getting the last element\n",
    "newest_col=colors[-1]"
   ]
  },
  {
   "cell_type": "code",
   "execution_count": 139,
   "id": "4142d474",
   "metadata": {},
   "outputs": [
    {
     "name": "stdout",
     "output_type": "stream",
     "text": [
      "red color wow , blue color wow wow wow and white o my god wow\n"
     ]
    }
   ],
   "source": [
    "print(first_col,'color wow ,',second_col,'color wow wow wow' ,'and',newest_col,'o my god wow')"
   ]
  },
  {
   "cell_type": "markdown",
   "id": "702d8bef",
   "metadata": {},
   "source": [
    "modifying individual items:"
   ]
  },
  {
   "cell_type": "code",
   "execution_count": 140,
   "id": "45c6c121",
   "metadata": {},
   "outputs": [
    {
     "name": "stdout",
     "output_type": "stream",
     "text": [
      "['yellow', 'blue', 'green', 'red', 'white']\n"
     ]
    }
   ],
   "source": [
    "#changing an element\n",
    "colors[0]='yellow'\n",
    "colors[-2]='red'\n",
    "print(colors)"
   ]
  },
  {
   "cell_type": "code",
   "execution_count": 141,
   "id": "5975ec6d",
   "metadata": {},
   "outputs": [
    {
     "name": "stdout",
     "output_type": "stream",
     "text": [
      "['yellow', 'blue', 'green', 'red', 'white', 'orange']\n"
     ]
    }
   ],
   "source": [
    "#adding elements:\n",
    "colors.append('orange')\n",
    "print(colors)"
   ]
  },
  {
   "cell_type": "code",
   "execution_count": 142,
   "id": "d0709ad5",
   "metadata": {},
   "outputs": [
    {
     "name": "stdout",
     "output_type": "stream",
     "text": [
      "['red', 'blue', 'green']\n"
     ]
    }
   ],
   "source": [
    "#starting with an empty list\n",
    "colors=[]\n",
    "colors.append('red')\n",
    "colors.append('blue')\n",
    "colors.append('green')\n",
    "print(colors)\n"
   ]
  },
  {
   "cell_type": "code",
   "execution_count": 143,
   "id": "bc4edbdf",
   "metadata": {},
   "outputs": [
    {
     "name": "stdout",
     "output_type": "stream",
     "text": [
      "['violet', 'red', 'purple', 'blue', 'green']\n"
     ]
    }
   ],
   "source": [
    "#inserting elements at a particular position\n",
    "colors.insert(0,'violet')\n",
    "colors.insert(2,'purple')\n",
    "print(colors)"
   ]
  },
  {
   "cell_type": "code",
   "execution_count": 144,
   "id": "6efad0be",
   "metadata": {},
   "outputs": [
    {
     "name": "stdout",
     "output_type": "stream",
     "text": [
      "['violet', 'red', 'purple', 'blue']\n"
     ]
    }
   ],
   "source": [
    "#removing elements:\n",
    "#deleting an element by its position\n",
    "del colors[-1]\n",
    "print(colors)"
   ]
  },
  {
   "cell_type": "code",
   "execution_count": 145,
   "id": "c7dad2a6",
   "metadata": {},
   "outputs": [
    {
     "name": "stdout",
     "output_type": "stream",
     "text": [
      "['red', 'blue', 'black', 'white']\n"
     ]
    }
   ],
   "source": [
    "#removing an item by its value\n",
    "colors=['red','blue','green','black','white']\n",
    "colors.remove('green')\n",
    "print(colors)"
   ]
  },
  {
   "cell_type": "markdown",
   "id": "7bda237d",
   "metadata": {},
   "source": [
    "pooping elements"
   ]
  },
  {
   "cell_type": "code",
   "execution_count": 146,
   "id": "08984143",
   "metadata": {},
   "outputs": [
    {
     "name": "stdout",
     "output_type": "stream",
     "text": [
      "white\n"
     ]
    }
   ],
   "source": [
    "#pop the last item from a list\n",
    "most_recent_col=colors.pop()\n",
    "print(most_recent_col)\n"
   ]
  },
  {
   "cell_type": "code",
   "execution_count": 147,
   "id": "2b7218ba",
   "metadata": {},
   "outputs": [
    {
     "name": "stdout",
     "output_type": "stream",
     "text": [
      "black\n",
      "['red', 'blue']\n"
     ]
    }
   ],
   "source": [
    "#pop the first item from the list\n",
    "first_col=colors.pop()\n",
    "print(first_col)\n",
    "print(colors)"
   ]
  },
  {
   "cell_type": "code",
   "execution_count": 148,
   "id": "dc3312b1",
   "metadata": {},
   "outputs": [
    {
     "name": "stdout",
     "output_type": "stream",
     "text": [
      "we have 2 colors\n"
     ]
    }
   ],
   "source": [
    "#length\n",
    "num_colors=len(colors)\n",
    "print('we have '+str(num_colors)+' colors')"
   ]
  },
  {
   "cell_type": "markdown",
   "id": "3b2b6dbf",
   "metadata": {},
   "source": [
    "sorting a list "
   ]
  },
  {
   "cell_type": "code",
   "execution_count": 149,
   "id": "afcee6a9",
   "metadata": {},
   "outputs": [
    {
     "name": "stdout",
     "output_type": "stream",
     "text": [
      "['blue', 'red']\n"
     ]
    }
   ],
   "source": [
    "#sorting a list permanently\n",
    "colors.sort()\n",
    "print(colors)"
   ]
  },
  {
   "cell_type": "code",
   "execution_count": 150,
   "id": "5862a8e7",
   "metadata": {},
   "outputs": [
    {
     "name": "stdout",
     "output_type": "stream",
     "text": [
      "['red', 'blue']\n"
     ]
    }
   ],
   "source": [
    "#sorting a list permanently in reverse alphabetical order\n",
    "colors.sort(reverse=True)\n",
    "print(colors)"
   ]
  },
  {
   "cell_type": "code",
   "execution_count": 151,
   "id": "aca36e63",
   "metadata": {},
   "outputs": [
    {
     "name": "stdout",
     "output_type": "stream",
     "text": [
      "['blue', 'red']\n",
      "['red', 'blue']\n"
     ]
    }
   ],
   "source": [
    "#sorting a list temporarily\n",
    "print(sorted(colors))\n",
    "print(sorted(colors,reverse=True))"
   ]
  },
  {
   "cell_type": "code",
   "execution_count": 152,
   "id": "da263f67",
   "metadata": {},
   "outputs": [
    {
     "name": "stdout",
     "output_type": "stream",
     "text": [
      "['red', 'blue']\n",
      "['blue', 'red']\n"
     ]
    }
   ],
   "source": [
    "#reverse the order of the list\n",
    "print(colors)\n",
    "colors.reverse()\n",
    "print(colors)"
   ]
  },
  {
   "cell_type": "markdown",
   "id": "8a099de4",
   "metadata": {},
   "source": [
    "#looping through a list"
   ]
  },
  {
   "cell_type": "code",
   "execution_count": 153,
   "id": "978c0bf0",
   "metadata": {
    "scrolled": true
   },
   "outputs": [
    {
     "name": "stdout",
     "output_type": "stream",
     "text": [
      "blue\n",
      "red\n"
     ]
    }
   ],
   "source": [
    "#printing all items in a list\n",
    "for col in colors:\n",
    "    print(col)"
   ]
  },
  {
   "cell_type": "code",
   "execution_count": 154,
   "id": "f409e47c",
   "metadata": {},
   "outputs": [
    {
     "ename": "SyntaxError",
     "evalue": "unterminated string literal (detected at line 3) (1825145164.py, line 3)",
     "output_type": "error",
     "traceback": [
      "\u001b[1;36m  Cell \u001b[1;32mIn[154], line 3\u001b[1;36m\u001b[0m\n\u001b[1;33m    print('hello ,welcome to ''+ col +'!')\u001b[0m\n\u001b[1;37m                                        ^\u001b[0m\n\u001b[1;31mSyntaxError\u001b[0m\u001b[1;31m:\u001b[0m unterminated string literal (detected at line 3)\n"
     ]
    }
   ],
   "source": [
    "#printing a message for each item and a separate message afterwards\n",
    "for col in colors:\n",
    "    print('hello ,welcome to ''+ col +'!')\n",
    "print(\"welcome all ,we are glad to see you!\")"
   ]
  },
  {
   "cell_type": "markdown",
   "id": "c48da1bf",
   "metadata": {},
   "source": [
    "#range function"
   ]
  },
  {
   "cell_type": "code",
   "execution_count": 155,
   "id": "1ce4c414",
   "metadata": {},
   "outputs": [
    {
     "name": "stdout",
     "output_type": "stream",
     "text": [
      "1\n",
      "2\n",
      "3\n",
      "4\n",
      "5\n",
      "6\n",
      "7\n",
      "8\n",
      "9\n",
      "10\n",
      "11\n",
      "12\n",
      "13\n",
      "14\n",
      "15\n",
      "16\n",
      "17\n",
      "18\n",
      "19\n",
      "20\n",
      "21\n",
      "22\n",
      "23\n",
      "24\n",
      "25\n",
      "26\n",
      "27\n",
      "28\n",
      "29\n",
      "30\n",
      "31\n",
      "32\n",
      "33\n",
      "34\n",
      "35\n",
      "36\n",
      "37\n",
      "38\n",
      "39\n",
      "40\n",
      "41\n",
      "42\n",
      "43\n",
      "44\n",
      "45\n",
      "46\n",
      "47\n",
      "48\n",
      "49\n",
      "50\n",
      "51\n",
      "52\n",
      "53\n",
      "54\n",
      "55\n",
      "56\n",
      "57\n",
      "58\n",
      "59\n",
      "60\n",
      "61\n",
      "62\n",
      "63\n",
      "64\n",
      "65\n",
      "66\n",
      "67\n",
      "68\n",
      "69\n",
      "70\n",
      "71\n",
      "72\n",
      "73\n",
      "74\n",
      "75\n",
      "76\n",
      "77\n",
      "78\n",
      "79\n",
      "80\n",
      "81\n",
      "82\n",
      "83\n",
      "84\n",
      "85\n",
      "86\n",
      "87\n",
      "88\n",
      "89\n",
      "90\n",
      "91\n",
      "92\n",
      "93\n",
      "94\n",
      "95\n",
      "96\n",
      "97\n",
      "98\n",
      "99\n",
      "100\n",
      "101\n",
      "102\n",
      "103\n",
      "104\n",
      "105\n",
      "106\n",
      "107\n",
      "108\n",
      "109\n",
      "110\n",
      "111\n",
      "112\n",
      "113\n",
      "114\n",
      "115\n",
      "116\n",
      "117\n",
      "118\n",
      "119\n",
      "120\n",
      "121\n",
      "122\n",
      "123\n",
      "124\n",
      "125\n",
      "126\n",
      "127\n",
      "128\n",
      "129\n",
      "130\n",
      "131\n",
      "132\n",
      "133\n",
      "134\n",
      "135\n",
      "136\n",
      "137\n",
      "138\n",
      "139\n",
      "140\n",
      "141\n",
      "142\n",
      "143\n",
      "144\n",
      "145\n",
      "146\n",
      "147\n",
      "148\n",
      "149\n",
      "150\n",
      "151\n",
      "152\n",
      "153\n",
      "154\n",
      "155\n",
      "156\n",
      "157\n",
      "158\n",
      "159\n",
      "160\n",
      "161\n",
      "162\n",
      "163\n",
      "164\n",
      "165\n",
      "166\n",
      "167\n",
      "168\n",
      "169\n",
      "170\n",
      "171\n",
      "172\n",
      "173\n",
      "174\n",
      "175\n",
      "176\n",
      "177\n",
      "178\n",
      "179\n",
      "180\n",
      "181\n",
      "182\n",
      "183\n",
      "184\n",
      "185\n",
      "186\n",
      "187\n",
      "188\n",
      "189\n",
      "190\n",
      "191\n",
      "192\n",
      "193\n",
      "194\n",
      "195\n",
      "196\n",
      "197\n",
      "198\n",
      "199\n",
      "200\n",
      "201\n",
      "202\n",
      "203\n",
      "204\n",
      "205\n",
      "206\n",
      "207\n",
      "208\n",
      "209\n",
      "210\n",
      "211\n",
      "212\n",
      "213\n",
      "214\n",
      "215\n",
      "216\n",
      "217\n",
      "218\n",
      "219\n",
      "220\n",
      "221\n",
      "222\n",
      "223\n",
      "224\n",
      "225\n",
      "226\n",
      "227\n",
      "228\n",
      "229\n",
      "230\n",
      "231\n",
      "232\n",
      "233\n",
      "234\n",
      "235\n",
      "236\n",
      "237\n",
      "238\n",
      "239\n",
      "240\n",
      "241\n",
      "242\n",
      "243\n",
      "244\n",
      "245\n",
      "246\n",
      "247\n",
      "248\n",
      "249\n",
      "250\n",
      "251\n",
      "252\n",
      "253\n",
      "254\n",
      "255\n",
      "256\n",
      "257\n",
      "258\n",
      "259\n",
      "260\n",
      "261\n",
      "262\n",
      "263\n",
      "264\n",
      "265\n",
      "266\n",
      "267\n",
      "268\n",
      "269\n",
      "270\n",
      "271\n",
      "272\n",
      "273\n",
      "274\n",
      "275\n",
      "276\n",
      "277\n",
      "278\n",
      "279\n",
      "280\n",
      "281\n",
      "282\n",
      "283\n",
      "284\n",
      "285\n",
      "286\n",
      "287\n",
      "288\n",
      "289\n",
      "290\n",
      "291\n",
      "292\n",
      "293\n",
      "294\n",
      "295\n",
      "296\n",
      "297\n",
      "298\n",
      "299\n",
      "300\n"
     ]
    }
   ],
   "source": [
    "#printing the numbers 1 to 300\n",
    "for num in range(1,301):\n",
    "    print(num)"
   ]
  },
  {
   "cell_type": "code",
   "execution_count": 156,
   "id": "3210ec6b",
   "metadata": {},
   "outputs": [
    {
     "name": "stdout",
     "output_type": "stream",
     "text": [
      "[1, 2, 3, 4, 5, 6, 7, 8, 9, 10, 11, 12, 13, 14, 15, 16, 17, 18, 19, 20, 21, 22, 23, 24, 25, 26, 27, 28, 29, 30, 31, 32, 33, 34, 35, 36, 37, 38, 39, 40, 41, 42, 43, 44, 45, 46, 47, 48, 49, 50, 51, 52, 53, 54, 55, 56, 57, 58, 59, 60, 61, 62, 63, 64, 65, 66, 67, 68, 69, 70, 71, 72, 73, 74, 75, 76, 77, 78, 79, 80, 81, 82, 83, 84, 85, 86, 87, 88, 89, 90, 91, 92, 93, 94, 95, 96, 97, 98, 99, 100]\n"
     ]
    }
   ],
   "source": [
    "#making a list of numbers from 1to a million\n",
    "nums=list(range(1,101))\n",
    "print(nums)"
   ]
  },
  {
   "cell_type": "markdown",
   "id": "a43cfbfc",
   "metadata": {},
   "source": [
    "#simple statistics:\n"
   ]
  },
  {
   "cell_type": "code",
   "execution_count": 157,
   "id": "c18c2371",
   "metadata": {},
   "outputs": [
    {
     "name": "stdout",
     "output_type": "stream",
     "text": [
      "2\n"
     ]
    }
   ],
   "source": [
    "#finding the minimum value in a list\n",
    "nums=[22,32,43,54,65,6,76,112,2,20]\n",
    "num_min=min(nums)\n",
    "print(num_min)"
   ]
  },
  {
   "cell_type": "code",
   "execution_count": 158,
   "id": "875495f1",
   "metadata": {},
   "outputs": [
    {
     "name": "stdout",
     "output_type": "stream",
     "text": [
      "162\n"
     ]
    }
   ],
   "source": [
    "#finding the maximum value\n",
    "nums=[12,21,32,43,54]\n",
    "total_num=sum(nums)\n",
    "print(total_num)"
   ]
  },
  {
   "cell_type": "code",
   "execution_count": null,
   "id": "bb3e213f",
   "metadata": {},
   "outputs": [],
   "source": []
  }
 ],
 "metadata": {
  "kernelspec": {
   "display_name": "Python 3 (ipykernel)",
   "language": "python",
   "name": "python3"
  },
  "language_info": {
   "codemirror_mode": {
    "name": "ipython",
    "version": 3
   },
   "file_extension": ".py",
   "mimetype": "text/x-python",
   "name": "python",
   "nbconvert_exporter": "python",
   "pygments_lexer": "ipython3",
   "version": "3.11.5"
  }
 },
 "nbformat": 4,
 "nbformat_minor": 5
}
